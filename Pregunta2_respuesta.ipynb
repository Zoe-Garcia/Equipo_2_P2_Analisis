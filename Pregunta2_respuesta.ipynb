{
  "nbformat": 4,
  "nbformat_minor": 0,
  "metadata": {
    "colab": {
      "name": "Pregunta2_respuesta.ipynb",
      "provenance": [],
      "collapsed_sections": [],
      "mount_file_id": "1BuMJchjdCQmhpM8cMXWJkgaaWGmUuZqW",
      "authorship_tag": "ABX9TyOQGyNWbTuCHm70qAV6o7lr",
      "include_colab_link": true
    },
    "kernelspec": {
      "name": "python3",
      "display_name": "Python 3"
    }
  },
  "cells": [
    {
      "cell_type": "markdown",
      "metadata": {
        "id": "view-in-github",
        "colab_type": "text"
      },
      "source": [
        "<a href=\"https://colab.research.google.com/github/zoegarm/Equipo_2_P2_Analisis/blob/main/Pregunta2_respuesta.ipynb\" target=\"_parent\"><img src=\"https://colab.research.google.com/assets/colab-badge.svg\" alt=\"Open In Colab\"/></a>"
      ]
    },
    {
      "cell_type": "markdown",
      "metadata": {
        "id": "7x4vTC2CRMlJ"
      },
      "source": [
        "# **Equipo 2**\n",
        "## **Proyecto: Cáncer de mama en México**\n",
        "\n",
        "#### Integrantes:\n",
        "- Zoé Ariel García Martínez\n",
        "- Atenea De La Cruz Brito\n",
        "- Juan Luis Carrillo de la Cruz"
      ]
    },
    {
      "cell_type": "markdown",
      "metadata": {
        "id": "uNLcpjtYHvgO"
      },
      "source": [
        "### **Pregunta de investigación 2**\n",
        "#### **2. ¿Cuál es la relación entre los gastos de salud y los resultados en su política en la lucha contra el cáncer?**\n",
        "\n",
        "##### **2.1 México**\n",
        "En esta sección indagaremos cual ha sido el presupuesto para salud por estado de la República Mexicana y lo relacionaremos con los índices de mortalidad por cáncer de mama, con el fin de dilucidar si la dotación de presupuesto para combatir esta enfermedad ha sido adecuada.\n"
      ]
    },
    {
      "cell_type": "markdown",
      "metadata": {
        "id": "C4XtDpGpsye4"
      },
      "source": [
        "####**Dataset 1:** Gasto en Salud en el Sistema Nacional de Salud, México\n",
        "\n",
        "- **Observaciones:** Estados de la República\n",
        "- **Periodo:** 1993-2017\n",
        "- **Archivo:** \"1._GFF_01_2017_A_CONS_O.csv\"\n",
        "- **Fuente:** Dirección General de Información en Salud (DGIS) Secretaría de Salud (SSA)."
      ]
    },
    {
      "cell_type": "code",
      "metadata": {
        "id": "huL88p_fGkik"
      },
      "source": [
        "#Librerías\n",
        "import pandas as pd\n",
        "import numpy as np\n",
        "import seaborn as sns\n",
        "import matplotlib.pyplot as plt\n",
        "import plotly.express as px\n",
        "import statistics"
      ],
      "execution_count": 7,
      "outputs": []
    },
    {
      "cell_type": "markdown",
      "metadata": {
        "id": "stxCg9UxYtDT"
      },
      "source": [
        "##### **I. Carga de datos**"
      ]
    },
    {
      "cell_type": "code",
      "metadata": {
        "colab": {
          "base_uri": "https://localhost:8080/",
          "height": 408
        },
        "id": "6n91ZtBlaq85",
        "outputId": "b53f8b26-2d4e-477f-9901-e1644d91cfb0"
      },
      "source": [
        "## I. Cargar dataset\n",
        "ssa_gasto = pd.read_csv(\"https://raw.githubusercontent.com/zoegarm/Equipo_2_P2_Analisis/main/DATA_CLEAN/SSA_mexico_clean/ssa_gasto.csv\", sep=',')\n",
        "ssa_gasto.head()"
      ],
      "execution_count": 5,
      "outputs": [
        {
          "output_type": "execute_result",
          "data": {
            "text/html": [
              "<div>\n",
              "<style scoped>\n",
              "    .dataframe tbody tr th:only-of-type {\n",
              "        vertical-align: middle;\n",
              "    }\n",
              "\n",
              "    .dataframe tbody tr th {\n",
              "        vertical-align: top;\n",
              "    }\n",
              "\n",
              "    .dataframe thead th {\n",
              "        text-align: right;\n",
              "    }\n",
              "</style>\n",
              "<table border=\"1\" class=\"dataframe\">\n",
              "  <thead>\n",
              "    <tr style=\"text-align: right;\">\n",
              "      <th></th>\n",
              "      <th>Estado</th>\n",
              "      <th>Año</th>\n",
              "      <th>PIB en miles de pesos</th>\n",
              "      <th>Total gasto público en salud</th>\n",
              "      <th>Subtotal no asegurados</th>\n",
              "      <th>Gasto administrativo SSA</th>\n",
              "      <th>Aportaciones federales</th>\n",
              "      <th>Gasto estatal en salud</th>\n",
              "      <th>Subtotal asegurados</th>\n",
              "      <th>IMSS</th>\n",
              "      <th>ISSSTE</th>\n",
              "      <th>Cuotas de recuperación</th>\n",
              "      <th>Primas de seguros médicos</th>\n",
              "      <th>Total gasto en salud % PIB</th>\n",
              "      <th>Total gasto en salud % gasto público</th>\n",
              "      <th>Gasto en salud asegurados per cápita</th>\n",
              "      <th>Gasto en salud no asegurados per cápita</th>\n",
              "      <th>Total gasto en salud per cápita</th>\n",
              "      <th>Aportación federal % no asegurados</th>\n",
              "    </tr>\n",
              "  </thead>\n",
              "  <tbody>\n",
              "    <tr>\n",
              "      <th>0</th>\n",
              "      <td>Estados Unidos Mexicanos</td>\n",
              "      <td>2000-01-01</td>\n",
              "      <td>1.098389e+10</td>\n",
              "      <td>2.843230e+08</td>\n",
              "      <td>92221099.75</td>\n",
              "      <td>32524104.49</td>\n",
              "      <td>45666769.87</td>\n",
              "      <td>14030225.39</td>\n",
              "      <td>1.921019e+08</td>\n",
              "      <td>1.581991e+08</td>\n",
              "      <td>25106991.01</td>\n",
              "      <td>0.0</td>\n",
              "      <td>15242292.93</td>\n",
              "      <td>2.6</td>\n",
              "      <td>16.6</td>\n",
              "      <td>3884.49</td>\n",
              "      <td>1792.72</td>\n",
              "      <td>2817.98</td>\n",
              "      <td>84.8</td>\n",
              "    </tr>\n",
              "    <tr>\n",
              "      <th>1</th>\n",
              "      <td>Aguascalientes</td>\n",
              "      <td>2000-01-01</td>\n",
              "      <td>1.233635e+08</td>\n",
              "      <td>3.028818e+06</td>\n",
              "      <td>1059039.52</td>\n",
              "      <td>6816.29</td>\n",
              "      <td>691829.84</td>\n",
              "      <td>360393.39</td>\n",
              "      <td>1.969779e+06</td>\n",
              "      <td>1.791865e+06</td>\n",
              "      <td>167010.80</td>\n",
              "      <td>0.0</td>\n",
              "      <td>49754.01</td>\n",
              "      <td>2.5</td>\n",
              "      <td>12.8</td>\n",
              "      <td>3052.95</td>\n",
              "      <td>2915.51</td>\n",
              "      <td>3003.45</td>\n",
              "      <td>66.0</td>\n",
              "    </tr>\n",
              "    <tr>\n",
              "      <th>2</th>\n",
              "      <td>Baja California</td>\n",
              "      <td>2000-01-01</td>\n",
              "      <td>3.617749e+08</td>\n",
              "      <td>7.325541e+06</td>\n",
              "      <td>1142409.28</td>\n",
              "      <td>58962.54</td>\n",
              "      <td>1035444.66</td>\n",
              "      <td>48002.07</td>\n",
              "      <td>6.183132e+06</td>\n",
              "      <td>5.730923e+06</td>\n",
              "      <td>418176.84</td>\n",
              "      <td>0.0</td>\n",
              "      <td>225017.87</td>\n",
              "      <td>2.0</td>\n",
              "      <td>17.6</td>\n",
              "      <td>3720.76</td>\n",
              "      <td>1286.42</td>\n",
              "      <td>2872.94</td>\n",
              "      <td>95.8</td>\n",
              "    </tr>\n",
              "    <tr>\n",
              "      <th>3</th>\n",
              "      <td>Baja California Sur</td>\n",
              "      <td>2000-01-01</td>\n",
              "      <td>5.392448e+07</td>\n",
              "      <td>2.110065e+06</td>\n",
              "      <td>548082.52</td>\n",
              "      <td>6526.28</td>\n",
              "      <td>519422.41</td>\n",
              "      <td>22133.83</td>\n",
              "      <td>1.561983e+06</td>\n",
              "      <td>1.237632e+06</td>\n",
              "      <td>317848.31</td>\n",
              "      <td>0.0</td>\n",
              "      <td>5631.66</td>\n",
              "      <td>3.9</td>\n",
              "      <td>17.3</td>\n",
              "      <td>4842.07</td>\n",
              "      <td>3809.58</td>\n",
              "      <td>4523.62</td>\n",
              "      <td>96.0</td>\n",
              "    </tr>\n",
              "    <tr>\n",
              "      <th>4</th>\n",
              "      <td>Campeche</td>\n",
              "      <td>2000-01-01</td>\n",
              "      <td>1.191197e+08</td>\n",
              "      <td>2.428181e+06</td>\n",
              "      <td>984654.51</td>\n",
              "      <td>149975.07</td>\n",
              "      <td>697430.08</td>\n",
              "      <td>137249.36</td>\n",
              "      <td>1.443527e+06</td>\n",
              "      <td>9.289885e+05</td>\n",
              "      <td>161987.19</td>\n",
              "      <td>0.0</td>\n",
              "      <td>1734.41</td>\n",
              "      <td>2.0</td>\n",
              "      <td>7.0</td>\n",
              "      <td>4392.01</td>\n",
              "      <td>2646.65</td>\n",
              "      <td>3465.33</td>\n",
              "      <td>86.1</td>\n",
              "    </tr>\n",
              "  </tbody>\n",
              "</table>\n",
              "</div>"
            ],
            "text/plain": [
              "                     Estado  ... Aportación federal % no asegurados\n",
              "0  Estados Unidos Mexicanos  ...                               84.8\n",
              "1            Aguascalientes  ...                               66.0\n",
              "2           Baja California  ...                               95.8\n",
              "3       Baja California Sur  ...                               96.0\n",
              "4                  Campeche  ...                               86.1\n",
              "\n",
              "[5 rows x 19 columns]"
            ]
          },
          "metadata": {
            "tags": []
          },
          "execution_count": 5
        }
      ]
    },
    {
      "cell_type": "markdown",
      "metadata": {
        "id": "96NqReClZrTr"
      },
      "source": [
        "##### **II. Visualizaciones de datos**\n",
        "- Exploración visual de datos"
      ]
    },
    {
      "cell_type": "markdown",
      "metadata": {
        "id": "cRkTL7VUb9vn"
      },
      "source": [
        "###### **II.I Binning hexagonal**"
      ]
    },
    {
      "cell_type": "code",
      "metadata": {
        "colab": {
          "base_uri": "https://localhost:8080/",
          "height": 228
        },
        "id": "ABOkpd9_YW2y",
        "outputId": "9a186ba9-b498-4b49-bd02-4ac57a41d781"
      },
      "source": [
        "ssa_gasto_group = ssa_gasto.groupby('Estado')[['Total gasto en salud % PIB', 'Total gasto en salud % gasto público']].max()\n",
        "ssa_gasto_group.head()"
      ],
      "execution_count": 23,
      "outputs": [
        {
          "output_type": "execute_result",
          "data": {
            "text/html": [
              "<div>\n",
              "<style scoped>\n",
              "    .dataframe tbody tr th:only-of-type {\n",
              "        vertical-align: middle;\n",
              "    }\n",
              "\n",
              "    .dataframe tbody tr th {\n",
              "        vertical-align: top;\n",
              "    }\n",
              "\n",
              "    .dataframe thead th {\n",
              "        text-align: right;\n",
              "    }\n",
              "</style>\n",
              "<table border=\"1\" class=\"dataframe\">\n",
              "  <thead>\n",
              "    <tr style=\"text-align: right;\">\n",
              "      <th></th>\n",
              "      <th>Total gasto en salud % PIB</th>\n",
              "      <th>Total gasto en salud % gasto público</th>\n",
              "    </tr>\n",
              "    <tr>\n",
              "      <th>Estado</th>\n",
              "      <th></th>\n",
              "      <th></th>\n",
              "    </tr>\n",
              "  </thead>\n",
              "  <tbody>\n",
              "    <tr>\n",
              "      <th>Aguascalientes</th>\n",
              "      <td>3.5</td>\n",
              "      <td>30.0</td>\n",
              "    </tr>\n",
              "    <tr>\n",
              "      <th>Baja California</th>\n",
              "      <td>3.8</td>\n",
              "      <td>30.8</td>\n",
              "    </tr>\n",
              "    <tr>\n",
              "      <th>Baja California Sur</th>\n",
              "      <td>4.1</td>\n",
              "      <td>22.3</td>\n",
              "    </tr>\n",
              "    <tr>\n",
              "      <th>Campeche</th>\n",
              "      <td>2.3</td>\n",
              "      <td>12.7</td>\n",
              "    </tr>\n",
              "    <tr>\n",
              "      <th>Chiapas</th>\n",
              "      <td>5.8</td>\n",
              "      <td>20.7</td>\n",
              "    </tr>\n",
              "  </tbody>\n",
              "</table>\n",
              "</div>"
            ],
            "text/plain": [
              "                     Total gasto en salud % PIB  Total gasto en salud % gasto público\n",
              "Estado                                                                               \n",
              "Aguascalientes                              3.5                                  30.0\n",
              "Baja California                             3.8                                  30.8\n",
              "Baja California Sur                         4.1                                  22.3\n",
              "Campeche                                    2.3                                  12.7\n",
              "Chiapas                                     5.8                                  20.7"
            ]
          },
          "metadata": {
            "tags": []
          },
          "execution_count": 23
        }
      ]
    },
    {
      "cell_type": "code",
      "metadata": {
        "id": "YtHFVz5WZPz2"
      },
      "source": [
        "ssa_gasto_group['count'] = 1"
      ],
      "execution_count": 24,
      "outputs": []
    },
    {
      "cell_type": "code",
      "metadata": {
        "colab": {
          "base_uri": "https://localhost:8080/",
          "height": 437
        },
        "id": "WtYwrPGuYcMz",
        "outputId": "c9d2dfd1-403e-4a64-d3bd-9c9d375808c7"
      },
      "source": [
        "sns.jointplot(x='Total gasto en salud % gasto público', y='Total gasto en salud % PIB', data=ssa_gasto_group, kind='hex', ratio=5, joint_kws={'gridsize': 50});"
      ],
      "execution_count": 25,
      "outputs": [
        {
          "output_type": "display_data",
          "data": {
            "image/png": "[encoded data removed]",
            "text/plain": [
              "<Figure size 432x432 with 3 Axes>"
            ]
          },
          "metadata": {
            "tags": []
          }
        }
      ]
    },
    {
      "cell_type": "markdown",
      "metadata": {
        "id": "y-Hiwc-OcOHo"
      },
      "source": [
        "###### **II.II Gráficas de barras**"
      ]
    },
    {
      "cell_type": "code",
      "metadata": {
        "colab": {
          "base_uri": "https://localhost:8080/",
          "height": 391
        },
        "id": "qG3l1TcCclWD",
        "outputId": "d36e29ab-7aa8-4f7e-93cc-c1ad4fa7d023"
      },
      "source": [
        "#Sólo Estados\n",
        "filtro_estados = ssa_gasto['Estado'] !='Estados Unidos Mexicanos'\n",
        "ssa_gasto_estados = ssa_gasto[filtro_estados]\n",
        "ssa_gasto_estados.head()"
      ],
      "execution_count": 45,
      "outputs": [
        {
          "output_type": "execute_result",
          "data": {
            "text/html": [
              "<div>\n",
              "<style scoped>\n",
              "    .dataframe tbody tr th:only-of-type {\n",
              "        vertical-align: middle;\n",
              "    }\n",
              "\n",
              "    .dataframe tbody tr th {\n",
              "        vertical-align: top;\n",
              "    }\n",
              "\n",
              "    .dataframe thead th {\n",
              "        text-align: right;\n",
              "    }\n",
              "</style>\n",
              "<table border=\"1\" class=\"dataframe\">\n",
              "  <thead>\n",
              "    <tr style=\"text-align: right;\">\n",
              "      <th></th>\n",
              "      <th>Estado</th>\n",
              "      <th>Año</th>\n",
              "      <th>PIB en miles de pesos</th>\n",
              "      <th>Total gasto público en salud</th>\n",
              "      <th>Subtotal no asegurados</th>\n",
              "      <th>Gasto administrativo SSA</th>\n",
              "      <th>Aportaciones federales</th>\n",
              "      <th>Gasto estatal en salud</th>\n",
              "      <th>Subtotal asegurados</th>\n",
              "      <th>IMSS</th>\n",
              "      <th>ISSSTE</th>\n",
              "      <th>Cuotas de recuperación</th>\n",
              "      <th>Primas de seguros médicos</th>\n",
              "      <th>Total gasto en salud % PIB</th>\n",
              "      <th>Total gasto en salud % gasto público</th>\n",
              "      <th>Gasto en salud asegurados per cápita</th>\n",
              "      <th>Gasto en salud no asegurados per cápita</th>\n",
              "      <th>Total gasto en salud per cápita</th>\n",
              "      <th>Aportación federal % no asegurados</th>\n",
              "    </tr>\n",
              "  </thead>\n",
              "  <tbody>\n",
              "    <tr>\n",
              "      <th>1</th>\n",
              "      <td>Aguascalientes</td>\n",
              "      <td>2000-01-01</td>\n",
              "      <td>1.233635e+08</td>\n",
              "      <td>3028818.49</td>\n",
              "      <td>1059039.52</td>\n",
              "      <td>6816.29</td>\n",
              "      <td>691829.84</td>\n",
              "      <td>360393.39</td>\n",
              "      <td>1969778.97</td>\n",
              "      <td>1791865.29</td>\n",
              "      <td>167010.80</td>\n",
              "      <td>0.0</td>\n",
              "      <td>49754.01</td>\n",
              "      <td>2.5</td>\n",
              "      <td>12.8</td>\n",
              "      <td>3052.95</td>\n",
              "      <td>2915.51</td>\n",
              "      <td>3003.45</td>\n",
              "      <td>66.0</td>\n",
              "    </tr>\n",
              "    <tr>\n",
              "      <th>2</th>\n",
              "      <td>Baja California</td>\n",
              "      <td>2000-01-01</td>\n",
              "      <td>3.617749e+08</td>\n",
              "      <td>7325540.79</td>\n",
              "      <td>1142409.28</td>\n",
              "      <td>58962.54</td>\n",
              "      <td>1035444.66</td>\n",
              "      <td>48002.07</td>\n",
              "      <td>6183131.51</td>\n",
              "      <td>5730922.81</td>\n",
              "      <td>418176.84</td>\n",
              "      <td>0.0</td>\n",
              "      <td>225017.87</td>\n",
              "      <td>2.0</td>\n",
              "      <td>17.6</td>\n",
              "      <td>3720.76</td>\n",
              "      <td>1286.42</td>\n",
              "      <td>2872.94</td>\n",
              "      <td>95.8</td>\n",
              "    </tr>\n",
              "    <tr>\n",
              "      <th>3</th>\n",
              "      <td>Baja California Sur</td>\n",
              "      <td>2000-01-01</td>\n",
              "      <td>5.392448e+07</td>\n",
              "      <td>2110065.10</td>\n",
              "      <td>548082.52</td>\n",
              "      <td>6526.28</td>\n",
              "      <td>519422.41</td>\n",
              "      <td>22133.83</td>\n",
              "      <td>1561982.58</td>\n",
              "      <td>1237631.99</td>\n",
              "      <td>317848.31</td>\n",
              "      <td>0.0</td>\n",
              "      <td>5631.66</td>\n",
              "      <td>3.9</td>\n",
              "      <td>17.3</td>\n",
              "      <td>4842.07</td>\n",
              "      <td>3809.58</td>\n",
              "      <td>4523.62</td>\n",
              "      <td>96.0</td>\n",
              "    </tr>\n",
              "    <tr>\n",
              "      <th>4</th>\n",
              "      <td>Campeche</td>\n",
              "      <td>2000-01-01</td>\n",
              "      <td>1.191197e+08</td>\n",
              "      <td>2428181.38</td>\n",
              "      <td>984654.51</td>\n",
              "      <td>149975.07</td>\n",
              "      <td>697430.08</td>\n",
              "      <td>137249.36</td>\n",
              "      <td>1443526.87</td>\n",
              "      <td>928988.47</td>\n",
              "      <td>161987.19</td>\n",
              "      <td>0.0</td>\n",
              "      <td>1734.41</td>\n",
              "      <td>2.0</td>\n",
              "      <td>7.0</td>\n",
              "      <td>4392.01</td>\n",
              "      <td>2646.65</td>\n",
              "      <td>3465.33</td>\n",
              "      <td>86.1</td>\n",
              "    </tr>\n",
              "    <tr>\n",
              "      <th>5</th>\n",
              "      <td>Coahuila de Zaragoza</td>\n",
              "      <td>2000-01-01</td>\n",
              "      <td>3.113629e+08</td>\n",
              "      <td>7799420.03</td>\n",
              "      <td>1234103.23</td>\n",
              "      <td>230397.94</td>\n",
              "      <td>894638.59</td>\n",
              "      <td>109066.70</td>\n",
              "      <td>6565316.80</td>\n",
              "      <td>6025755.93</td>\n",
              "      <td>468071.39</td>\n",
              "      <td>0.0</td>\n",
              "      <td>173783.72</td>\n",
              "      <td>2.5</td>\n",
              "      <td>19.8</td>\n",
              "      <td>3534.59</td>\n",
              "      <td>2301.10</td>\n",
              "      <td>3258.24</td>\n",
              "      <td>91.2</td>\n",
              "    </tr>\n",
              "  </tbody>\n",
              "</table>\n",
              "</div>"
            ],
            "text/plain": [
              "                 Estado  ... Aportación federal % no asegurados\n",
              "1        Aguascalientes  ...                               66.0\n",
              "2       Baja California  ...                               95.8\n",
              "3   Baja California Sur  ...                               96.0\n",
              "4              Campeche  ...                               86.1\n",
              "5  Coahuila de Zaragoza  ...                               91.2\n",
              "\n",
              "[5 rows x 19 columns]"
            ]
          },
          "metadata": {
            "tags": []
          },
          "execution_count": 45
        }
      ]
    },
    {
      "cell_type": "code",
      "metadata": {
        "id": "nZRXbXGmEkTi",
        "colab": {
          "base_uri": "https://localhost:8080/"
        },
        "outputId": "37c049ea-83a2-4c28-c9d8-db209caa13c4"
      },
      "source": [
        "#Agregación, groupby\n",
        "gasto_salud_por_estado = ssa_gasto_estados.groupby('Estado')['Total gasto en salud per cápita'].agg(pd.Series.mean)\n",
        "gasto_salud_por_estado.head()"
      ],
      "execution_count": 70,
      "outputs": [
        {
          "output_type": "execute_result",
          "data": {
            "text/plain": [
              "Estado\n",
              "Aguascalientes         4482.525556\n",
              "Baja California        4101.594444\n",
              "Baja California Sur    6045.192222\n",
              "Campeche               5662.099444\n",
              "Chiapas                2721.615000\n",
              "Name: Total gasto en salud per cápita, dtype: float64"
            ]
          },
          "metadata": {
            "tags": []
          },
          "execution_count": 70
        }
      ]
    },
    {
      "cell_type": "code",
      "metadata": {
        "id": "BqKc9HwfRcRI",
        "colab": {
          "base_uri": "https://localhost:8080/",
          "height": 740
        },
        "outputId": "cfb5b622-deb0-40e5-eda6-0cd02e422390"
      },
      "source": [
        "#Gráfica de barras\n",
        "sns.set_theme(style=\"whitegrid\")\n",
        "fig = plt.figure(figsize=(6,12))\n",
        "ax = fig.add_subplot()\n",
        "ax.set_title('Gasto en salud per cápita por Estado', fontsize=13, pad=10);\n",
        "sns.barplot(x=\"Total gasto en salud per cápita\", y=\"Estado\", data=ssa_gasto_estados, ax=ax, palette='Blues');"
      ],
      "execution_count": 69,
      "outputs": [
        {
          "output_type": "display_data",
          "data": {
            "image/png": "[encoded data removed]",
            "text/plain": [
              "<Figure size 432x864 with 1 Axes>"
            ]
          },
          "metadata": {
            "tags": []
          }
        }
      ]
    },
    {
      "cell_type": "markdown",
      "metadata": {
        "id": "r10LL9XUto8M"
      },
      "source": [
        "#### **Dataset 2:** Mortalidad cáncer de mama, México\n",
        "- **Observaciones:** Estados de la República\n",
        "- **Periodo:** 2000-2015\n",
        "- **Archivo:** \"MortalidadCaMa2000a2015.csv\"\n",
        "- **Fuente:** Dirección General de Información en Salud (DGIS) Secretaría de Salud (SSA)\n",
        "- **Descripción:** Defunciones de mujeres de 25 años y más por tumor maligno de mama (C50), 2000-2015"
      ]
    },
    {
      "cell_type": "markdown",
      "metadata": {
        "id": "rMgot3JNZ_op"
      },
      "source": [
        "##### **I. Carga de datos**"
      ]
    },
    {
      "cell_type": "code",
      "metadata": {
        "colab": {
          "base_uri": "https://localhost:8080/",
          "height": 235
        },
        "id": "NhLVngoWsrsT",
        "outputId": "38093793-fab2-45b4-d3a8-4b43b8fa8537"
      },
      "source": [
        "## I.Cargar datos en formato csv\n",
        "#NOTA: Archivo en  latin-1\n",
        "mortalidad = pd.read_csv(\"https://raw.githubusercontent.com/zoegarm/Equipo_2_P2_Analisis/main/DATA_CLEAN/SSA_mexico_clean/ssa_mortalidad.csv\", sep=',', encoding='latin-1')\n",
        "mortalidad.head()"
      ],
      "execution_count": 71,
      "outputs": [
        {
          "output_type": "execute_result",
          "data": {
            "text/html": [
              "<div>\n",
              "<style scoped>\n",
              "    .dataframe tbody tr th:only-of-type {\n",
              "        vertical-align: middle;\n",
              "    }\n",
              "\n",
              "    .dataframe tbody tr th {\n",
              "        vertical-align: top;\n",
              "    }\n",
              "\n",
              "    .dataframe thead th {\n",
              "        text-align: right;\n",
              "    }\n",
              "</style>\n",
              "<table border=\"1\" class=\"dataframe\">\n",
              "  <thead>\n",
              "    <tr style=\"text-align: right;\">\n",
              "      <th></th>\n",
              "      <th>Estado</th>\n",
              "      <th>num_2000</th>\n",
              "      <th>tasa_2000</th>\n",
              "      <th>num_2001</th>\n",
              "      <th>tasa_2001</th>\n",
              "      <th>num_2002</th>\n",
              "      <th>tasa_2002</th>\n",
              "      <th>num_2003</th>\n",
              "      <th>tasa_2003</th>\n",
              "      <th>num_2004</th>\n",
              "      <th>tasa_2004</th>\n",
              "      <th>num_2005</th>\n",
              "      <th>tasa_2005</th>\n",
              "      <th>num_2006</th>\n",
              "      <th>tasa_2006</th>\n",
              "      <th>num_2007</th>\n",
              "      <th>tasa_2007</th>\n",
              "      <th>num_2008</th>\n",
              "      <th>tasa_2008</th>\n",
              "      <th>num_2009</th>\n",
              "      <th>tasa_2009</th>\n",
              "      <th>num_2010</th>\n",
              "      <th>tasa_2010</th>\n",
              "      <th>num_2011</th>\n",
              "      <th>tasa_2011</th>\n",
              "      <th>num_2012</th>\n",
              "      <th>tasa_2012</th>\n",
              "      <th>num_2013</th>\n",
              "      <th>tasa_2013</th>\n",
              "      <th>num_2014</th>\n",
              "      <th>tasa_2014</th>\n",
              "      <th>num_2015</th>\n",
              "      <th>tasa_2015</th>\n",
              "    </tr>\n",
              "  </thead>\n",
              "  <tbody>\n",
              "    <tr>\n",
              "      <th>0</th>\n",
              "      <td>Nacional</td>\n",
              "      <td>3419</td>\n",
              "      <td>14.1</td>\n",
              "      <td>3563</td>\n",
              "      <td>14.3</td>\n",
              "      <td>3822</td>\n",
              "      <td>14.9</td>\n",
              "      <td>3861</td>\n",
              "      <td>14.7</td>\n",
              "      <td>4150</td>\n",
              "      <td>15.4</td>\n",
              "      <td>4205</td>\n",
              "      <td>15.2</td>\n",
              "      <td>4440</td>\n",
              "      <td>15.7</td>\n",
              "      <td>4581</td>\n",
              "      <td>15.8</td>\n",
              "      <td>4802</td>\n",
              "      <td>16.2</td>\n",
              "      <td>4893</td>\n",
              "      <td>16.1</td>\n",
              "      <td>5034</td>\n",
              "      <td>16.2</td>\n",
              "      <td>5206</td>\n",
              "      <td>16.3</td>\n",
              "      <td>5583</td>\n",
              "      <td>17.1</td>\n",
              "      <td>5405</td>\n",
              "      <td>16.3</td>\n",
              "      <td>5974</td>\n",
              "      <td>17.6</td>\n",
              "      <td>6252</td>\n",
              "      <td>18.0</td>\n",
              "    </tr>\n",
              "    <tr>\n",
              "      <th>1</th>\n",
              "      <td>Aguascalientes</td>\n",
              "      <td>36</td>\n",
              "      <td>15.6</td>\n",
              "      <td>31</td>\n",
              "      <td>13.0</td>\n",
              "      <td>37</td>\n",
              "      <td>15.0</td>\n",
              "      <td>40</td>\n",
              "      <td>15.8</td>\n",
              "      <td>42</td>\n",
              "      <td>16.1</td>\n",
              "      <td>50</td>\n",
              "      <td>18.6</td>\n",
              "      <td>37</td>\n",
              "      <td>13.4</td>\n",
              "      <td>49</td>\n",
              "      <td>17.2</td>\n",
              "      <td>69</td>\n",
              "      <td>23.5</td>\n",
              "      <td>50</td>\n",
              "      <td>16.6</td>\n",
              "      <td>45</td>\n",
              "      <td>14.5</td>\n",
              "      <td>59</td>\n",
              "      <td>18.5</td>\n",
              "      <td>69</td>\n",
              "      <td>21.1</td>\n",
              "      <td>55</td>\n",
              "      <td>16.4</td>\n",
              "      <td>66</td>\n",
              "      <td>19.2</td>\n",
              "      <td>71</td>\n",
              "      <td>20.2</td>\n",
              "    </tr>\n",
              "    <tr>\n",
              "      <th>2</th>\n",
              "      <td>Baja California</td>\n",
              "      <td>98</td>\n",
              "      <td>16.7</td>\n",
              "      <td>102</td>\n",
              "      <td>16.6</td>\n",
              "      <td>103</td>\n",
              "      <td>16.1</td>\n",
              "      <td>105</td>\n",
              "      <td>15.7</td>\n",
              "      <td>120</td>\n",
              "      <td>17.3</td>\n",
              "      <td>126</td>\n",
              "      <td>17.5</td>\n",
              "      <td>129</td>\n",
              "      <td>17.3</td>\n",
              "      <td>148</td>\n",
              "      <td>19.2</td>\n",
              "      <td>153</td>\n",
              "      <td>19.2</td>\n",
              "      <td>161</td>\n",
              "      <td>19.6</td>\n",
              "      <td>163</td>\n",
              "      <td>19.3</td>\n",
              "      <td>166</td>\n",
              "      <td>19.1</td>\n",
              "      <td>180</td>\n",
              "      <td>20.1</td>\n",
              "      <td>178</td>\n",
              "      <td>19.4</td>\n",
              "      <td>188</td>\n",
              "      <td>19.9</td>\n",
              "      <td>213</td>\n",
              "      <td>22.0</td>\n",
              "    </tr>\n",
              "    <tr>\n",
              "      <th>3</th>\n",
              "      <td>Baja California Sur</td>\n",
              "      <td>20</td>\n",
              "      <td>19.1</td>\n",
              "      <td>19</td>\n",
              "      <td>17.3</td>\n",
              "      <td>20</td>\n",
              "      <td>17.4</td>\n",
              "      <td>27</td>\n",
              "      <td>22.4</td>\n",
              "      <td>23</td>\n",
              "      <td>18.2</td>\n",
              "      <td>25</td>\n",
              "      <td>18.9</td>\n",
              "      <td>32</td>\n",
              "      <td>23.1</td>\n",
              "      <td>34</td>\n",
              "      <td>23.4</td>\n",
              "      <td>34</td>\n",
              "      <td>22.3</td>\n",
              "      <td>33</td>\n",
              "      <td>20.7</td>\n",
              "      <td>31</td>\n",
              "      <td>18.6</td>\n",
              "      <td>39</td>\n",
              "      <td>22.3</td>\n",
              "      <td>36</td>\n",
              "      <td>19.7</td>\n",
              "      <td>34</td>\n",
              "      <td>17.9</td>\n",
              "      <td>31</td>\n",
              "      <td>15.6</td>\n",
              "      <td>33</td>\n",
              "      <td>16.0</td>\n",
              "    </tr>\n",
              "    <tr>\n",
              "      <th>4</th>\n",
              "      <td>Campeche</td>\n",
              "      <td>10</td>\n",
              "      <td>6.3</td>\n",
              "      <td>13</td>\n",
              "      <td>7.9</td>\n",
              "      <td>16</td>\n",
              "      <td>9.4</td>\n",
              "      <td>15</td>\n",
              "      <td>8.5</td>\n",
              "      <td>20</td>\n",
              "      <td>10.9</td>\n",
              "      <td>22</td>\n",
              "      <td>11.6</td>\n",
              "      <td>30</td>\n",
              "      <td>15.3</td>\n",
              "      <td>13</td>\n",
              "      <td>6.4</td>\n",
              "      <td>19</td>\n",
              "      <td>9.1</td>\n",
              "      <td>26</td>\n",
              "      <td>12.1</td>\n",
              "      <td>26</td>\n",
              "      <td>11.7</td>\n",
              "      <td>22</td>\n",
              "      <td>9.6</td>\n",
              "      <td>21</td>\n",
              "      <td>8.9</td>\n",
              "      <td>25</td>\n",
              "      <td>10.3</td>\n",
              "      <td>17</td>\n",
              "      <td>6.8</td>\n",
              "      <td>29</td>\n",
              "      <td>11.4</td>\n",
              "    </tr>\n",
              "  </tbody>\n",
              "</table>\n",
              "</div>"
            ],
            "text/plain": [
              "                Estado  num_2000  tasa_2000  ...  tasa_2014  num_2015  tasa_2015\n",
              "0             Nacional      3419       14.1  ...       17.6      6252       18.0\n",
              "1       Aguascalientes        36       15.6  ...       19.2        71       20.2\n",
              "2      Baja California        98       16.7  ...       19.9       213       22.0\n",
              "3  Baja California Sur        20       19.1  ...       15.6        33       16.0\n",
              "4             Campeche        10        6.3  ...        6.8        29       11.4\n",
              "\n",
              "[5 rows x 33 columns]"
            ]
          },
          "metadata": {
            "tags": []
          },
          "execution_count": 71
        }
      ]
    },
    {
      "cell_type": "markdown",
      "metadata": {
        "id": "1f5nh2M8ajJg"
      },
      "source": [
        "##### **II. Visualización de datos**"
      ]
    },
    {
      "cell_type": "code",
      "metadata": {
        "colab": {
          "base_uri": "https://localhost:8080/",
          "height": 536
        },
        "id": "OKa-SkEVlv_y",
        "outputId": "777a92b2-6eec-4ea3-8aba-96cc811e3efc"
      },
      "source": [
        "#Boxplot\n",
        "sns.set_theme(style=\"whitegrid\")\n",
        "fig = plt.figure(figsize=(12,6))\n",
        "ax = fig.add_subplot()\n",
        "ax.set_title('Tasa de mortalidad por Estado 2015', fontsize=13, pad=10)\n",
        "ax.set_ylabel('Tasa de mortalidad %')\n",
        "ax.set_xticklabels(ax.get_xticklabels(), rotation=90)\n",
        "sns.barplot(x=\"Estado\", y=\"tasa_2015\", data=mortalidad, ax=ax, palette='Blues');"
      ],
      "execution_count": 84,
      "outputs": [
        {
          "output_type": "display_data",
          "data": {
            "image/png": "[encoded data removed]",
            "text/plain": [
              "<Figure size 864x432 with 1 Axes>"
            ]
          },
          "metadata": {
            "tags": []
          }
        }
      ]
    },
    {
      "cell_type": "markdown",
      "metadata": {
        "id": "tMyzteZqf1NK"
      },
      "source": [
        "##### **2.2. OCDE**\n",
        "\n",
        "En esta sección revisaremos el gasto en salud de los países miembros de la Organización para la Cooperación y el Desarrollo Económico (OCDE), del cual forma parte México. Asimismo, revisaremos indicadores sobre la incidencia del cáncer de mama en dichos países, con el fin de relacionar el gasto devengado en materia sanitaria con las estrategias para combatir el cáncer y sus resultados."
      ]
    },
    {
      "cell_type": "markdown",
      "metadata": {
        "id": "yQ4LJe8TJoKx"
      },
      "source": [
        "####**Dataset 3:** Global Health Expenditure Database (GHED), OMS\n",
        "\n",
        "- **Observaciones:** 37 países miembros\n",
        "- **Periodo:** 2000-2018\n",
        "- **Archivo:** \"WHO_NHA_indicators.csv\"\n",
        "- **Fuente:** Data Explorer, Organización Mundial de la Salud (OMS).\n",
        "- **Descripción:** Gasto en Salud expresado como porcentaje del PIB a precios constantes. PPP indica precio paridad de producto, es decir, está normalizado par su comparación entre países con diferentes tipos de cambio y niveles de inflación. \n"
      ]
    },
    {
      "cell_type": "markdown",
      "metadata": {
        "id": "owi48JA1LLVS"
      },
      "source": [
        "##### **I. Carga de datos**"
      ]
    },
    {
      "cell_type": "code",
      "metadata": {
        "colab": {
          "base_uri": "https://localhost:8080/",
          "height": 173
        },
        "id": "g-Qei0Skexwz",
        "outputId": "9375be88-eb5f-45c7-d094-ccf8e4505bde"
      },
      "source": [
        "## I.Cargar datos en formato csv\n",
        "gasto_ocde = pd.read_csv(\"https://raw.githubusercontent.com/zoegarm/Equipo_2_P2_Analisis/main/DATA_CLEAN/OCDE_clean/ocde_gasto.csv\", sep=',')\n",
        "gasto_ocde.head(3)"
      ],
      "execution_count": 94,
      "outputs": [
        {
          "output_type": "execute_result",
          "data": {
            "text/html": [
              "<div>\n",
              "<style scoped>\n",
              "    .dataframe tbody tr th:only-of-type {\n",
              "        vertical-align: middle;\n",
              "    }\n",
              "\n",
              "    .dataframe tbody tr th {\n",
              "        vertical-align: top;\n",
              "    }\n",
              "\n",
              "    .dataframe thead th {\n",
              "        text-align: right;\n",
              "    }\n",
              "</style>\n",
              "<table border=\"1\" class=\"dataframe\">\n",
              "  <thead>\n",
              "    <tr style=\"text-align: right;\">\n",
              "      <th></th>\n",
              "      <th>Country</th>\n",
              "      <th>Indicator</th>\n",
              "      <th>2000</th>\n",
              "      <th>2001</th>\n",
              "      <th>2002</th>\n",
              "      <th>2003</th>\n",
              "      <th>2004</th>\n",
              "      <th>2005</th>\n",
              "      <th>2006</th>\n",
              "      <th>2007</th>\n",
              "      <th>2008</th>\n",
              "      <th>2009</th>\n",
              "      <th>2010</th>\n",
              "      <th>2011</th>\n",
              "      <th>2012</th>\n",
              "      <th>2013</th>\n",
              "      <th>2014</th>\n",
              "      <th>2015</th>\n",
              "      <th>2016</th>\n",
              "      <th>2017</th>\n",
              "      <th>2018</th>\n",
              "    </tr>\n",
              "  </thead>\n",
              "  <tbody>\n",
              "    <tr>\n",
              "      <th>0</th>\n",
              "      <td>Canada</td>\n",
              "      <td>Gasto en Salud % PIB</td>\n",
              "      <td>8</td>\n",
              "      <td>9</td>\n",
              "      <td>9</td>\n",
              "      <td>9</td>\n",
              "      <td>9</td>\n",
              "      <td>9</td>\n",
              "      <td>9</td>\n",
              "      <td>9</td>\n",
              "      <td>10</td>\n",
              "      <td>11</td>\n",
              "      <td>11</td>\n",
              "      <td>10</td>\n",
              "      <td>10</td>\n",
              "      <td>10</td>\n",
              "      <td>10</td>\n",
              "      <td>11</td>\n",
              "      <td>11</td>\n",
              "      <td>11</td>\n",
              "      <td>11</td>\n",
              "    </tr>\n",
              "    <tr>\n",
              "      <th>1</th>\n",
              "      <td>Canada</td>\n",
              "      <td>Gasto en Salud PPP per cápita</td>\n",
              "      <td>2430</td>\n",
              "      <td>2618</td>\n",
              "      <td>2758</td>\n",
              "      <td>2928</td>\n",
              "      <td>3087</td>\n",
              "      <td>3290</td>\n",
              "      <td>3555</td>\n",
              "      <td>3718</td>\n",
              "      <td>3855</td>\n",
              "      <td>4140</td>\n",
              "      <td>4257</td>\n",
              "      <td>4273</td>\n",
              "      <td>4384</td>\n",
              "      <td>4553</td>\n",
              "      <td>4660</td>\n",
              "      <td>4729</td>\n",
              "      <td>4909</td>\n",
              "      <td>5023</td>\n",
              "      <td>5200</td>\n",
              "    </tr>\n",
              "    <tr>\n",
              "      <th>2</th>\n",
              "      <td>Canada</td>\n",
              "      <td>Gasto Público % Gasto en Salud</td>\n",
              "      <td>73</td>\n",
              "      <td>73</td>\n",
              "      <td>72</td>\n",
              "      <td>73</td>\n",
              "      <td>73</td>\n",
              "      <td>73</td>\n",
              "      <td>73</td>\n",
              "      <td>73</td>\n",
              "      <td>73</td>\n",
              "      <td>73</td>\n",
              "      <td>73</td>\n",
              "      <td>74</td>\n",
              "      <td>74</td>\n",
              "      <td>74</td>\n",
              "      <td>74</td>\n",
              "      <td>74</td>\n",
              "      <td>73</td>\n",
              "      <td>73</td>\n",
              "      <td>73</td>\n",
              "    </tr>\n",
              "  </tbody>\n",
              "</table>\n",
              "</div>"
            ],
            "text/plain": [
              "  Country                       Indicator  2000  2001  ...  2015  2016  2017  2018\n",
              "0  Canada            Gasto en Salud % PIB     8     9  ...    11    11    11    11\n",
              "1  Canada   Gasto en Salud PPP per cápita  2430  2618  ...  4729  4909  5023  5200\n",
              "2  Canada  Gasto Público % Gasto en Salud    73    73  ...    74    73    73    73\n",
              "\n",
              "[3 rows x 21 columns]"
            ]
          },
          "metadata": {
            "tags": []
          },
          "execution_count": 94
        }
      ]
    },
    {
      "cell_type": "markdown",
      "metadata": {
        "id": "WaR29nwiTGNa"
      },
      "source": [
        "##### **II. Procesamiento y exploración**"
      ]
    },
    {
      "cell_type": "code",
      "metadata": {
        "colab": {
          "base_uri": "https://localhost:8080/"
        },
        "id": "P2oU64DdZmFJ",
        "outputId": "974293a7-d233-4990-a045-59871bd351b6"
      },
      "source": [
        "#Filtrar sólo indicador 'Gasto en Salud % PIB'\n",
        "ocde_pib = gasto_ocde['Indicator'] == 'Gasto en Salud % PIB'\n",
        "ocde_pib.head()"
      ],
      "execution_count": 86,
      "outputs": [
        {
          "output_type": "execute_result",
          "data": {
            "text/plain": [
              "0     True\n",
              "1    False\n",
              "2    False\n",
              "3    False\n",
              "4     True\n",
              "Name: Indicator, dtype: bool"
            ]
          },
          "metadata": {
            "tags": []
          },
          "execution_count": 86
        }
      ]
    },
    {
      "cell_type": "code",
      "metadata": {
        "colab": {
          "base_uri": "https://localhost:8080/",
          "height": 138
        },
        "id": "RodNy1CyZm5k",
        "outputId": "4b11883d-b3ee-4122-ebab-293577e14483"
      },
      "source": [
        "#Aplicar selección\n",
        "gasto_ocde_pib = gasto_ocde[ocde_pib]\n",
        "gasto_ocde_pib.head(3)"
      ],
      "execution_count": 95,
      "outputs": [
        {
          "output_type": "execute_result",
          "data": {
            "text/html": [
              "<div>\n",
              "<style scoped>\n",
              "    .dataframe tbody tr th:only-of-type {\n",
              "        vertical-align: middle;\n",
              "    }\n",
              "\n",
              "    .dataframe tbody tr th {\n",
              "        vertical-align: top;\n",
              "    }\n",
              "\n",
              "    .dataframe thead th {\n",
              "        text-align: right;\n",
              "    }\n",
              "</style>\n",
              "<table border=\"1\" class=\"dataframe\">\n",
              "  <thead>\n",
              "    <tr style=\"text-align: right;\">\n",
              "      <th></th>\n",
              "      <th>Country</th>\n",
              "      <th>Indicator</th>\n",
              "      <th>2000</th>\n",
              "      <th>2001</th>\n",
              "      <th>2002</th>\n",
              "      <th>2003</th>\n",
              "      <th>2004</th>\n",
              "      <th>2005</th>\n",
              "      <th>2006</th>\n",
              "      <th>2007</th>\n",
              "      <th>2008</th>\n",
              "      <th>2009</th>\n",
              "      <th>2010</th>\n",
              "      <th>2011</th>\n",
              "      <th>2012</th>\n",
              "      <th>2013</th>\n",
              "      <th>2014</th>\n",
              "      <th>2015</th>\n",
              "      <th>2016</th>\n",
              "      <th>2017</th>\n",
              "      <th>2018</th>\n",
              "    </tr>\n",
              "  </thead>\n",
              "  <tbody>\n",
              "    <tr>\n",
              "      <th>0</th>\n",
              "      <td>Canada</td>\n",
              "      <td>Gasto en Salud % PIB</td>\n",
              "      <td>8</td>\n",
              "      <td>9</td>\n",
              "      <td>9</td>\n",
              "      <td>9</td>\n",
              "      <td>9</td>\n",
              "      <td>9</td>\n",
              "      <td>9</td>\n",
              "      <td>9</td>\n",
              "      <td>10</td>\n",
              "      <td>11</td>\n",
              "      <td>11</td>\n",
              "      <td>10</td>\n",
              "      <td>10</td>\n",
              "      <td>10</td>\n",
              "      <td>10</td>\n",
              "      <td>11</td>\n",
              "      <td>11</td>\n",
              "      <td>11</td>\n",
              "      <td>11</td>\n",
              "    </tr>\n",
              "    <tr>\n",
              "      <th>4</th>\n",
              "      <td>Chile</td>\n",
              "      <td>Gasto en Salud % PIB</td>\n",
              "      <td>7</td>\n",
              "      <td>7</td>\n",
              "      <td>7</td>\n",
              "      <td>7</td>\n",
              "      <td>7</td>\n",
              "      <td>7</td>\n",
              "      <td>6</td>\n",
              "      <td>6</td>\n",
              "      <td>7</td>\n",
              "      <td>7</td>\n",
              "      <td>7</td>\n",
              "      <td>7</td>\n",
              "      <td>7</td>\n",
              "      <td>7</td>\n",
              "      <td>8</td>\n",
              "      <td>8</td>\n",
              "      <td>9</td>\n",
              "      <td>9</td>\n",
              "      <td>9</td>\n",
              "    </tr>\n",
              "    <tr>\n",
              "      <th>8</th>\n",
              "      <td>Colombia</td>\n",
              "      <td>Gasto en Salud % PIB</td>\n",
              "      <td>6</td>\n",
              "      <td>6</td>\n",
              "      <td>6</td>\n",
              "      <td>6</td>\n",
              "      <td>6</td>\n",
              "      <td>6</td>\n",
              "      <td>6</td>\n",
              "      <td>6</td>\n",
              "      <td>7</td>\n",
              "      <td>7</td>\n",
              "      <td>7</td>\n",
              "      <td>7</td>\n",
              "      <td>7</td>\n",
              "      <td>7</td>\n",
              "      <td>7</td>\n",
              "      <td>8</td>\n",
              "      <td>8</td>\n",
              "      <td>8</td>\n",
              "      <td>8</td>\n",
              "    </tr>\n",
              "  </tbody>\n",
              "</table>\n",
              "</div>"
            ],
            "text/plain": [
              "    Country             Indicator  2000  2001  ...  2015  2016  2017  2018\n",
              "0    Canada  Gasto en Salud % PIB     8     9  ...    11    11    11    11\n",
              "4     Chile  Gasto en Salud % PIB     7     7  ...     8     9     9     9\n",
              "8  Colombia  Gasto en Salud % PIB     6     6  ...     8     8     8     8\n",
              "\n",
              "[3 rows x 21 columns]"
            ]
          },
          "metadata": {
            "tags": []
          },
          "execution_count": 95
        }
      ]
    },
    {
      "cell_type": "code",
      "metadata": {
        "colab": {
          "base_uri": "https://localhost:8080/",
          "height": 138
        },
        "id": "A7PWgF9bb2WZ",
        "outputId": "4a62e1fa-efff-4015-80dc-e2c202948b49"
      },
      "source": [
        "#Eliminar columna indicador, ya no es relevante\n",
        "del gasto_ocde_pib['Indicator']\n",
        "gasto_ocde_pib.head(3)"
      ],
      "execution_count": 96,
      "outputs": [
        {
          "output_type": "execute_result",
          "data": {
            "text/html": [
              "<div>\n",
              "<style scoped>\n",
              "    .dataframe tbody tr th:only-of-type {\n",
              "        vertical-align: middle;\n",
              "    }\n",
              "\n",
              "    .dataframe tbody tr th {\n",
              "        vertical-align: top;\n",
              "    }\n",
              "\n",
              "    .dataframe thead th {\n",
              "        text-align: right;\n",
              "    }\n",
              "</style>\n",
              "<table border=\"1\" class=\"dataframe\">\n",
              "  <thead>\n",
              "    <tr style=\"text-align: right;\">\n",
              "      <th></th>\n",
              "      <th>Country</th>\n",
              "      <th>2000</th>\n",
              "      <th>2001</th>\n",
              "      <th>2002</th>\n",
              "      <th>2003</th>\n",
              "      <th>2004</th>\n",
              "      <th>2005</th>\n",
              "      <th>2006</th>\n",
              "      <th>2007</th>\n",
              "      <th>2008</th>\n",
              "      <th>2009</th>\n",
              "      <th>2010</th>\n",
              "      <th>2011</th>\n",
              "      <th>2012</th>\n",
              "      <th>2013</th>\n",
              "      <th>2014</th>\n",
              "      <th>2015</th>\n",
              "      <th>2016</th>\n",
              "      <th>2017</th>\n",
              "      <th>2018</th>\n",
              "    </tr>\n",
              "  </thead>\n",
              "  <tbody>\n",
              "    <tr>\n",
              "      <th>0</th>\n",
              "      <td>Canada</td>\n",
              "      <td>8</td>\n",
              "      <td>9</td>\n",
              "      <td>9</td>\n",
              "      <td>9</td>\n",
              "      <td>9</td>\n",
              "      <td>9</td>\n",
              "      <td>9</td>\n",
              "      <td>9</td>\n",
              "      <td>10</td>\n",
              "      <td>11</td>\n",
              "      <td>11</td>\n",
              "      <td>10</td>\n",
              "      <td>10</td>\n",
              "      <td>10</td>\n",
              "      <td>10</td>\n",
              "      <td>11</td>\n",
              "      <td>11</td>\n",
              "      <td>11</td>\n",
              "      <td>11</td>\n",
              "    </tr>\n",
              "    <tr>\n",
              "      <th>4</th>\n",
              "      <td>Chile</td>\n",
              "      <td>7</td>\n",
              "      <td>7</td>\n",
              "      <td>7</td>\n",
              "      <td>7</td>\n",
              "      <td>7</td>\n",
              "      <td>7</td>\n",
              "      <td>6</td>\n",
              "      <td>6</td>\n",
              "      <td>7</td>\n",
              "      <td>7</td>\n",
              "      <td>7</td>\n",
              "      <td>7</td>\n",
              "      <td>7</td>\n",
              "      <td>7</td>\n",
              "      <td>8</td>\n",
              "      <td>8</td>\n",
              "      <td>9</td>\n",
              "      <td>9</td>\n",
              "      <td>9</td>\n",
              "    </tr>\n",
              "    <tr>\n",
              "      <th>8</th>\n",
              "      <td>Colombia</td>\n",
              "      <td>6</td>\n",
              "      <td>6</td>\n",
              "      <td>6</td>\n",
              "      <td>6</td>\n",
              "      <td>6</td>\n",
              "      <td>6</td>\n",
              "      <td>6</td>\n",
              "      <td>6</td>\n",
              "      <td>7</td>\n",
              "      <td>7</td>\n",
              "      <td>7</td>\n",
              "      <td>7</td>\n",
              "      <td>7</td>\n",
              "      <td>7</td>\n",
              "      <td>7</td>\n",
              "      <td>8</td>\n",
              "      <td>8</td>\n",
              "      <td>8</td>\n",
              "      <td>8</td>\n",
              "    </tr>\n",
              "  </tbody>\n",
              "</table>\n",
              "</div>"
            ],
            "text/plain": [
              "    Country  2000  2001  2002  2003  2004  ...  2013  2014  2015  2016  2017  2018\n",
              "0    Canada     8     9     9     9     9  ...    10    10    11    11    11    11\n",
              "4     Chile     7     7     7     7     7  ...     7     8     8     9     9     9\n",
              "8  Colombia     6     6     6     6     6  ...     7     7     8     8     8     8\n",
              "\n",
              "[3 rows x 20 columns]"
            ]
          },
          "metadata": {
            "tags": []
          },
          "execution_count": 96
        }
      ]
    },
    {
      "cell_type": "code",
      "metadata": {
        "colab": {
          "base_uri": "https://localhost:8080/",
          "height": 198
        },
        "id": "tYlnNHxBbezP",
        "outputId": "c6a35aca-c0b3-494d-e8a8-613c44ff0d41"
      },
      "source": [
        "#Cambiar índice\n",
        "gasto_ocde_pib.set_index('Country')\n",
        "gasto_ocde_pib.tail()"
      ],
      "execution_count": 101,
      "outputs": [
        {
          "output_type": "execute_result",
          "data": {
            "text/html": [
              "<div>\n",
              "<style scoped>\n",
              "    .dataframe tbody tr th:only-of-type {\n",
              "        vertical-align: middle;\n",
              "    }\n",
              "\n",
              "    .dataframe tbody tr th {\n",
              "        vertical-align: top;\n",
              "    }\n",
              "\n",
              "    .dataframe thead th {\n",
              "        text-align: right;\n",
              "    }\n",
              "</style>\n",
              "<table border=\"1\" class=\"dataframe\">\n",
              "  <thead>\n",
              "    <tr style=\"text-align: right;\">\n",
              "      <th></th>\n",
              "      <th>Country</th>\n",
              "      <th>2000</th>\n",
              "      <th>2001</th>\n",
              "      <th>2002</th>\n",
              "      <th>2003</th>\n",
              "      <th>2004</th>\n",
              "      <th>2005</th>\n",
              "      <th>2006</th>\n",
              "      <th>2007</th>\n",
              "      <th>2008</th>\n",
              "      <th>2009</th>\n",
              "      <th>2010</th>\n",
              "      <th>2011</th>\n",
              "      <th>2012</th>\n",
              "      <th>2013</th>\n",
              "      <th>2014</th>\n",
              "      <th>2015</th>\n",
              "      <th>2016</th>\n",
              "      <th>2017</th>\n",
              "      <th>2018</th>\n",
              "    </tr>\n",
              "  </thead>\n",
              "  <tbody>\n",
              "    <tr>\n",
              "      <th>128</th>\n",
              "      <td>United Kingdom</td>\n",
              "      <td>7</td>\n",
              "      <td>8</td>\n",
              "      <td>8</td>\n",
              "      <td>8</td>\n",
              "      <td>8</td>\n",
              "      <td>9</td>\n",
              "      <td>9</td>\n",
              "      <td>9</td>\n",
              "      <td>9</td>\n",
              "      <td>10</td>\n",
              "      <td>10</td>\n",
              "      <td>10</td>\n",
              "      <td>10</td>\n",
              "      <td>10</td>\n",
              "      <td>10</td>\n",
              "      <td>10</td>\n",
              "      <td>10</td>\n",
              "      <td>10</td>\n",
              "      <td>10</td>\n",
              "    </tr>\n",
              "    <tr>\n",
              "      <th>132</th>\n",
              "      <td>Australia</td>\n",
              "      <td>8</td>\n",
              "      <td>8</td>\n",
              "      <td>8</td>\n",
              "      <td>8</td>\n",
              "      <td>8</td>\n",
              "      <td>8</td>\n",
              "      <td>8</td>\n",
              "      <td>8</td>\n",
              "      <td>8</td>\n",
              "      <td>9</td>\n",
              "      <td>8</td>\n",
              "      <td>9</td>\n",
              "      <td>9</td>\n",
              "      <td>9</td>\n",
              "      <td>9</td>\n",
              "      <td>9</td>\n",
              "      <td>9</td>\n",
              "      <td>9</td>\n",
              "      <td>9</td>\n",
              "    </tr>\n",
              "    <tr>\n",
              "      <th>136</th>\n",
              "      <td>Japan</td>\n",
              "      <td>7</td>\n",
              "      <td>7</td>\n",
              "      <td>7</td>\n",
              "      <td>8</td>\n",
              "      <td>8</td>\n",
              "      <td>8</td>\n",
              "      <td>8</td>\n",
              "      <td>8</td>\n",
              "      <td>8</td>\n",
              "      <td>9</td>\n",
              "      <td>9</td>\n",
              "      <td>11</td>\n",
              "      <td>11</td>\n",
              "      <td>11</td>\n",
              "      <td>11</td>\n",
              "      <td>11</td>\n",
              "      <td>11</td>\n",
              "      <td>11</td>\n",
              "      <td>11</td>\n",
              "    </tr>\n",
              "    <tr>\n",
              "      <th>140</th>\n",
              "      <td>New Zealand</td>\n",
              "      <td>7</td>\n",
              "      <td>8</td>\n",
              "      <td>8</td>\n",
              "      <td>8</td>\n",
              "      <td>8</td>\n",
              "      <td>8</td>\n",
              "      <td>9</td>\n",
              "      <td>8</td>\n",
              "      <td>9</td>\n",
              "      <td>10</td>\n",
              "      <td>10</td>\n",
              "      <td>10</td>\n",
              "      <td>10</td>\n",
              "      <td>9</td>\n",
              "      <td>9</td>\n",
              "      <td>9</td>\n",
              "      <td>9</td>\n",
              "      <td>9</td>\n",
              "      <td>9</td>\n",
              "    </tr>\n",
              "    <tr>\n",
              "      <th>144</th>\n",
              "      <td>Republic of Korea</td>\n",
              "      <td>4</td>\n",
              "      <td>4</td>\n",
              "      <td>4</td>\n",
              "      <td>4</td>\n",
              "      <td>4</td>\n",
              "      <td>5</td>\n",
              "      <td>5</td>\n",
              "      <td>5</td>\n",
              "      <td>5</td>\n",
              "      <td>6</td>\n",
              "      <td>6</td>\n",
              "      <td>6</td>\n",
              "      <td>6</td>\n",
              "      <td>6</td>\n",
              "      <td>6</td>\n",
              "      <td>7</td>\n",
              "      <td>7</td>\n",
              "      <td>7</td>\n",
              "      <td>8</td>\n",
              "    </tr>\n",
              "  </tbody>\n",
              "</table>\n",
              "</div>"
            ],
            "text/plain": [
              "               Country  2000  2001  2002  2003  ...  2014  2015  2016  2017  2018\n",
              "128     United Kingdom     7     8     8     8  ...    10    10    10    10    10\n",
              "132          Australia     8     8     8     8  ...     9     9     9     9     9\n",
              "136              Japan     7     7     7     8  ...    11    11    11    11    11\n",
              "140        New Zealand     7     8     8     8  ...     9     9     9     9     9\n",
              "144  Republic of Korea     4     4     4     4  ...     6     7     7     7     8\n",
              "\n",
              "[5 rows x 20 columns]"
            ]
          },
          "metadata": {
            "tags": []
          },
          "execution_count": 101
        }
      ]
    },
    {
      "cell_type": "code",
      "metadata": {
        "colab": {
          "base_uri": "https://localhost:8080/",
          "height": 740
        },
        "id": "aWUGXfphXBip",
        "outputId": "116ddbea-5ecb-403f-9727-a1ff98c1eeed"
      },
      "source": [
        "#Visualización\n",
        "sns.set_theme(style=\"whitegrid\")\n",
        "fig = plt.figure(figsize=(6,12))\n",
        "ax = fig.add_subplot()\n",
        "ax.set_title('Gasto en Salud como porcentaje del PIB', fontsize=13, pad=10);\n",
        "sns.barplot(x=\"2018\", y=\"Country\", data=gasto_ocde_pib, ax=ax, palette='Blues');"
      ],
      "execution_count": 121,
      "outputs": [
        {
          "output_type": "display_data",
          "data": {
            "image/png": "[encoded data removed]",
            "text/plain": [
              "<Figure size 432x864 with 1 Axes>"
            ]
          },
          "metadata": {
            "tags": []
          }
        }
      ]
    },
    {
      "cell_type": "markdown",
      "metadata": {
        "id": "4fHvQORNyG2c"
      },
      "source": [
        "####**Dataset 4:** Health Status: Cancer, OCDE\n",
        "\n",
        "- **Observaciones:** 37 países miembros\n",
        "- **Periodo:** 2000-2012\n",
        "- **Archivo:** \"HEALTH_STAT_24022021235442318.csv\"\n",
        "- **Fuente:** OECD Statistics technology, Organización para la Cooperación y el Desarrollo Económico (OCDE).\n",
        "- **Descripción:** Variable de interés, CANCBREC | Malignant neoplasms of female breast.\n"
      ]
    },
    {
      "cell_type": "markdown",
      "metadata": {
        "id": "59k9vcc90glD"
      },
      "source": [
        "##### **I. Carga de datos**"
      ]
    },
    {
      "cell_type": "code",
      "metadata": {
        "colab": {
          "base_uri": "https://localhost:8080/",
          "height": 198
        },
        "id": "ynTzdrO40UlJ",
        "outputId": "4ef7f288-0ca9-4247-faf7-7c19935886d6"
      },
      "source": [
        "## I.Cargar datos en formato csv\n",
        "cancer_ocde = pd.read_csv(\"https://raw.githubusercontent.com/zoegarm/Equipo_2_P2_Analisis/main/DATA_CLEAN/OCDE_clean/ocde_cancer.csv\", sep=',')\n",
        "cancer_ocde.head()"
      ],
      "execution_count": 122,
      "outputs": [
        {
          "output_type": "execute_result",
          "data": {
            "text/html": [
              "<div>\n",
              "<style scoped>\n",
              "    .dataframe tbody tr th:only-of-type {\n",
              "        vertical-align: middle;\n",
              "    }\n",
              "\n",
              "    .dataframe tbody tr th {\n",
              "        vertical-align: top;\n",
              "    }\n",
              "\n",
              "    .dataframe thead th {\n",
              "        text-align: right;\n",
              "    }\n",
              "</style>\n",
              "<table border=\"1\" class=\"dataframe\">\n",
              "  <thead>\n",
              "    <tr style=\"text-align: right;\">\n",
              "      <th></th>\n",
              "      <th>VAR</th>\n",
              "      <th>Variable</th>\n",
              "      <th>Country</th>\n",
              "      <th>Year</th>\n",
              "      <th>Value</th>\n",
              "    </tr>\n",
              "  </thead>\n",
              "  <tbody>\n",
              "    <tr>\n",
              "      <th>0</th>\n",
              "      <td>CANCTOCA</td>\n",
              "      <td>Malignant neoplasms</td>\n",
              "      <td>Australia</td>\n",
              "      <td>2002-01-01</td>\n",
              "      <td>312.0</td>\n",
              "    </tr>\n",
              "    <tr>\n",
              "      <th>1</th>\n",
              "      <td>CANCTOCA</td>\n",
              "      <td>Malignant neoplasms</td>\n",
              "      <td>Australia</td>\n",
              "      <td>2008-01-01</td>\n",
              "      <td>314.1</td>\n",
              "    </tr>\n",
              "    <tr>\n",
              "      <th>2</th>\n",
              "      <td>CANCTOCA</td>\n",
              "      <td>Malignant neoplasms</td>\n",
              "      <td>Australia</td>\n",
              "      <td>2012-01-01</td>\n",
              "      <td>323.0</td>\n",
              "    </tr>\n",
              "    <tr>\n",
              "      <th>3</th>\n",
              "      <td>CANCCOLC</td>\n",
              "      <td>Malignant neoplasms of colon</td>\n",
              "      <td>Australia</td>\n",
              "      <td>2002-01-01</td>\n",
              "      <td>41.7</td>\n",
              "    </tr>\n",
              "    <tr>\n",
              "      <th>4</th>\n",
              "      <td>CANCCOLC</td>\n",
              "      <td>Malignant neoplasms of colon</td>\n",
              "      <td>Australia</td>\n",
              "      <td>2008-01-01</td>\n",
              "      <td>38.7</td>\n",
              "    </tr>\n",
              "  </tbody>\n",
              "</table>\n",
              "</div>"
            ],
            "text/plain": [
              "        VAR                      Variable    Country        Year  Value\n",
              "0  CANCTOCA           Malignant neoplasms  Australia  2002-01-01  312.0\n",
              "1  CANCTOCA           Malignant neoplasms  Australia  2008-01-01  314.1\n",
              "2  CANCTOCA           Malignant neoplasms  Australia  2012-01-01  323.0\n",
              "3  CANCCOLC  Malignant neoplasms of colon  Australia  2002-01-01   41.7\n",
              "4  CANCCOLC  Malignant neoplasms of colon  Australia  2008-01-01   38.7"
            ]
          },
          "metadata": {
            "tags": []
          },
          "execution_count": 122
        }
      ]
    },
    {
      "cell_type": "markdown",
      "metadata": {
        "id": "OBaQtoIU4hmK"
      },
      "source": [
        "##### **II. Procesamiento y exploración**"
      ]
    },
    {
      "cell_type": "code",
      "metadata": {
        "colab": {
          "base_uri": "https://localhost:8080/"
        },
        "id": "faXHlyq843mo",
        "outputId": "d50721fb-e696-4c48-9f33-8892036ba1a2"
      },
      "source": [
        "#Valores únicos de variable para encontrar cáncer de mama\n",
        "cancer_ocde['Variable'].unique()\n",
        "#Nota: El resultado que nos interesa es sólo: 'Malignant neoplasms of female breast'"
      ],
      "execution_count": 126,
      "outputs": [
        {
          "output_type": "execute_result",
          "data": {
            "text/plain": [
              "array(['Malignant neoplasms', 'Malignant neoplasms of colon',\n",
              "       'Malignant neoplasms of lung',\n",
              "       'Malignant neoplasms of female breast',\n",
              "       'Malignant neoplasms of cervix', 'Malignant neoplasms of prostate'],\n",
              "      dtype=object)"
            ]
          },
          "metadata": {
            "tags": []
          },
          "execution_count": 126
        }
      ]
    },
    {
      "cell_type": "code",
      "metadata": {
        "colab": {
          "base_uri": "https://localhost:8080/"
        },
        "id": "ZXU-y5Oj5ZKz",
        "outputId": "bf9e5cf8-0b52-4eb0-95b1-0a75fb00524c"
      },
      "source": [
        "#Subconjunto sólo con información de cáncer de mama\n",
        "cancer_mama = cancer_ocde['Variable'] == 'Malignant neoplasms of female breast'\n",
        "cancer_mama"
      ],
      "execution_count": 127,
      "outputs": [
        {
          "output_type": "execute_result",
          "data": {
            "text/plain": [
              "0       False\n",
              "1       False\n",
              "2       False\n",
              "3       False\n",
              "4       False\n",
              "        ...  \n",
              "2971    False\n",
              "2972    False\n",
              "2973    False\n",
              "2974    False\n",
              "2975    False\n",
              "Name: Variable, Length: 2976, dtype: bool"
            ]
          },
          "metadata": {
            "tags": []
          },
          "execution_count": 127
        }
      ]
    },
    {
      "cell_type": "code",
      "metadata": {
        "colab": {
          "base_uri": "https://localhost:8080/",
          "height": 198
        },
        "id": "QTf614Mv5zid",
        "outputId": "0b9ee560-e330-470a-afd0-8365558f990a"
      },
      "source": [
        "#Aplicar selección\n",
        "cancer_mama_ocde = cancer_ocde[cancer_mama]\n",
        "cancer_mama_ocde.head()"
      ],
      "execution_count": 128,
      "outputs": [
        {
          "output_type": "execute_result",
          "data": {
            "text/html": [
              "<div>\n",
              "<style scoped>\n",
              "    .dataframe tbody tr th:only-of-type {\n",
              "        vertical-align: middle;\n",
              "    }\n",
              "\n",
              "    .dataframe tbody tr th {\n",
              "        vertical-align: top;\n",
              "    }\n",
              "\n",
              "    .dataframe thead th {\n",
              "        text-align: right;\n",
              "    }\n",
              "</style>\n",
              "<table border=\"1\" class=\"dataframe\">\n",
              "  <thead>\n",
              "    <tr style=\"text-align: right;\">\n",
              "      <th></th>\n",
              "      <th>VAR</th>\n",
              "      <th>Variable</th>\n",
              "      <th>Country</th>\n",
              "      <th>Year</th>\n",
              "      <th>Value</th>\n",
              "    </tr>\n",
              "  </thead>\n",
              "  <tbody>\n",
              "    <tr>\n",
              "      <th>369</th>\n",
              "      <td>CANCBREC</td>\n",
              "      <td>Malignant neoplasms of female breast</td>\n",
              "      <td>Australia</td>\n",
              "      <td>2002-01-01</td>\n",
              "      <td>83.2</td>\n",
              "    </tr>\n",
              "    <tr>\n",
              "      <th>370</th>\n",
              "      <td>CANCBREC</td>\n",
              "      <td>Malignant neoplasms of female breast</td>\n",
              "      <td>Australia</td>\n",
              "      <td>2008-01-01</td>\n",
              "      <td>84.8</td>\n",
              "    </tr>\n",
              "    <tr>\n",
              "      <th>371</th>\n",
              "      <td>CANCBREC</td>\n",
              "      <td>Malignant neoplasms of female breast</td>\n",
              "      <td>Australia</td>\n",
              "      <td>2012-01-01</td>\n",
              "      <td>86.0</td>\n",
              "    </tr>\n",
              "    <tr>\n",
              "      <th>387</th>\n",
              "      <td>CANCBREC</td>\n",
              "      <td>Malignant neoplasms of female breast</td>\n",
              "      <td>Austria</td>\n",
              "      <td>2000-01-01</td>\n",
              "      <td>67.2</td>\n",
              "    </tr>\n",
              "    <tr>\n",
              "      <th>388</th>\n",
              "      <td>CANCBREC</td>\n",
              "      <td>Malignant neoplasms of female breast</td>\n",
              "      <td>Austria</td>\n",
              "      <td>2002-01-01</td>\n",
              "      <td>70.5</td>\n",
              "    </tr>\n",
              "  </tbody>\n",
              "</table>\n",
              "</div>"
            ],
            "text/plain": [
              "          VAR                              Variable  ...        Year Value\n",
              "369  CANCBREC  Malignant neoplasms of female breast  ...  2002-01-01  83.2\n",
              "370  CANCBREC  Malignant neoplasms of female breast  ...  2008-01-01  84.8\n",
              "371  CANCBREC  Malignant neoplasms of female breast  ...  2012-01-01  86.0\n",
              "387  CANCBREC  Malignant neoplasms of female breast  ...  2000-01-01  67.2\n",
              "388  CANCBREC  Malignant neoplasms of female breast  ...  2002-01-01  70.5\n",
              "\n",
              "[5 rows x 5 columns]"
            ]
          },
          "metadata": {
            "tags": []
          },
          "execution_count": 128
        }
      ]
    },
    {
      "cell_type": "code",
      "metadata": {
        "colab": {
          "base_uri": "https://localhost:8080/",
          "height": 198
        },
        "id": "QwJD0wN_6NDY",
        "outputId": "e2a23f0e-a0ae-43c4-9167-45d3dc968747"
      },
      "source": [
        "#Eliminar columnas irrelevantes de subconjunto\n",
        "cancer_mama_ocde = cancer_mama_ocde.drop(['VAR', 'Variable'], axis=1)\n",
        "cancer_mama_ocde.head()"
      ],
      "execution_count": 129,
      "outputs": [
        {
          "output_type": "execute_result",
          "data": {
            "text/html": [
              "<div>\n",
              "<style scoped>\n",
              "    .dataframe tbody tr th:only-of-type {\n",
              "        vertical-align: middle;\n",
              "    }\n",
              "\n",
              "    .dataframe tbody tr th {\n",
              "        vertical-align: top;\n",
              "    }\n",
              "\n",
              "    .dataframe thead th {\n",
              "        text-align: right;\n",
              "    }\n",
              "</style>\n",
              "<table border=\"1\" class=\"dataframe\">\n",
              "  <thead>\n",
              "    <tr style=\"text-align: right;\">\n",
              "      <th></th>\n",
              "      <th>Country</th>\n",
              "      <th>Year</th>\n",
              "      <th>Value</th>\n",
              "    </tr>\n",
              "  </thead>\n",
              "  <tbody>\n",
              "    <tr>\n",
              "      <th>369</th>\n",
              "      <td>Australia</td>\n",
              "      <td>2002-01-01</td>\n",
              "      <td>83.2</td>\n",
              "    </tr>\n",
              "    <tr>\n",
              "      <th>370</th>\n",
              "      <td>Australia</td>\n",
              "      <td>2008-01-01</td>\n",
              "      <td>84.8</td>\n",
              "    </tr>\n",
              "    <tr>\n",
              "      <th>371</th>\n",
              "      <td>Australia</td>\n",
              "      <td>2012-01-01</td>\n",
              "      <td>86.0</td>\n",
              "    </tr>\n",
              "    <tr>\n",
              "      <th>387</th>\n",
              "      <td>Austria</td>\n",
              "      <td>2000-01-01</td>\n",
              "      <td>67.2</td>\n",
              "    </tr>\n",
              "    <tr>\n",
              "      <th>388</th>\n",
              "      <td>Austria</td>\n",
              "      <td>2002-01-01</td>\n",
              "      <td>70.5</td>\n",
              "    </tr>\n",
              "  </tbody>\n",
              "</table>\n",
              "</div>"
            ],
            "text/plain": [
              "       Country        Year  Value\n",
              "369  Australia  2002-01-01   83.2\n",
              "370  Australia  2008-01-01   84.8\n",
              "371  Australia  2012-01-01   86.0\n",
              "387    Austria  2000-01-01   67.2\n",
              "388    Austria  2002-01-01   70.5"
            ]
          },
          "metadata": {
            "tags": []
          },
          "execution_count": 129
        }
      ]
    },
    {
      "cell_type": "code",
      "metadata": {
        "colab": {
          "base_uri": "https://localhost:8080/"
        },
        "id": "ETK9Se8z7SAc",
        "outputId": "49fa5d65-319f-401a-c443-2d6a8fce7dda"
      },
      "source": [
        "#Tipo de datos\n",
        "cancer_mama_ocde_drop.dtypes"
      ],
      "execution_count": null,
      "outputs": [
        {
          "output_type": "execute_result",
          "data": {
            "text/plain": [
              "Country            object\n",
              "Year       datetime64[ns]\n",
              "Value             float64\n",
              "dtype: object"
            ]
          },
          "metadata": {
            "tags": []
          },
          "execution_count": 138
        }
      ]
    },
    {
      "cell_type": "code",
      "metadata": {
        "colab": {
          "base_uri": "https://localhost:8080/",
          "height": 228
        },
        "id": "3oycoPQM7XEi",
        "outputId": "163c52b7-9fe4-4ed9-c61a-cedb1b9c7c18"
      },
      "source": [
        "#Cambiar índice a Year\n",
        "cancer_mama_ocde = cancer_mama_ocde.set_index('Year')\n",
        "cancer_mama_ocde.head()"
      ],
      "execution_count": 130,
      "outputs": [
        {
          "output_type": "execute_result",
          "data": {
            "text/html": [
              "<div>\n",
              "<style scoped>\n",
              "    .dataframe tbody tr th:only-of-type {\n",
              "        vertical-align: middle;\n",
              "    }\n",
              "\n",
              "    .dataframe tbody tr th {\n",
              "        vertical-align: top;\n",
              "    }\n",
              "\n",
              "    .dataframe thead th {\n",
              "        text-align: right;\n",
              "    }\n",
              "</style>\n",
              "<table border=\"1\" class=\"dataframe\">\n",
              "  <thead>\n",
              "    <tr style=\"text-align: right;\">\n",
              "      <th></th>\n",
              "      <th>Country</th>\n",
              "      <th>Value</th>\n",
              "    </tr>\n",
              "    <tr>\n",
              "      <th>Year</th>\n",
              "      <th></th>\n",
              "      <th></th>\n",
              "    </tr>\n",
              "  </thead>\n",
              "  <tbody>\n",
              "    <tr>\n",
              "      <th>2002-01-01</th>\n",
              "      <td>Australia</td>\n",
              "      <td>83.2</td>\n",
              "    </tr>\n",
              "    <tr>\n",
              "      <th>2008-01-01</th>\n",
              "      <td>Australia</td>\n",
              "      <td>84.8</td>\n",
              "    </tr>\n",
              "    <tr>\n",
              "      <th>2012-01-01</th>\n",
              "      <td>Australia</td>\n",
              "      <td>86.0</td>\n",
              "    </tr>\n",
              "    <tr>\n",
              "      <th>2000-01-01</th>\n",
              "      <td>Austria</td>\n",
              "      <td>67.2</td>\n",
              "    </tr>\n",
              "    <tr>\n",
              "      <th>2002-01-01</th>\n",
              "      <td>Austria</td>\n",
              "      <td>70.5</td>\n",
              "    </tr>\n",
              "  </tbody>\n",
              "</table>\n",
              "</div>"
            ],
            "text/plain": [
              "              Country  Value\n",
              "Year                        \n",
              "2002-01-01  Australia   83.2\n",
              "2008-01-01  Australia   84.8\n",
              "2012-01-01  Australia   86.0\n",
              "2000-01-01    Austria   67.2\n",
              "2002-01-01    Austria   70.5"
            ]
          },
          "metadata": {
            "tags": []
          },
          "execution_count": 130
        }
      ]
    },
    {
      "cell_type": "code",
      "metadata": {
        "colab": {
          "base_uri": "https://localhost:8080/",
          "height": 712
        },
        "id": "cf62PPIwusGO",
        "outputId": "bf87dd48-5a72-4284-826b-8c383765401e"
      },
      "source": [
        "sns.set_theme(style=\"whitegrid\")\n",
        "fig = plt.figure(figsize=(20,10))\n",
        "ax = fig.add_subplot()\n",
        "ax.set_title('Incidencia cáncer de mama por cada 100mil mujeres', fontsize=13, pad=10);\n",
        "sns.lineplot(x=\"Year\", y=\"Value\", hue='Country', data=cancer_mama_ocde, ax=ax, palette='Spectral', legend='brief');"
      ],
      "execution_count": 144,
      "outputs": [
        {
          "output_type": "display_data",
          "data": {
            "image/png": "[encoded data removed]",
            "text/plain": [
              "<Figure size 1440x720 with 1 Axes>"
            ]
          },
          "metadata": {
            "tags": []
          }
        }
      ]
    },
    {
      "cell_type": "markdown",
      "metadata": {
        "id": "oi5K6Uc-Ildf"
      },
      "source": [
        "###**Fuentes de bases de datos:**\n",
        "#####**Pregunta 2**\n",
        "DGIS (9 de mayo de 2019). “Gasto en Salud, 1993-2017 (miles de pesos constantes, 2017=100)”, Dirección General de Información en Salud (DGIS) Secretaría de Salud (SSA), México. Recuperado de: http://www.dgis.salud.gob.mx/descargas/xls/1._GFF_01_2017_A_CONS_O.xlsx\n",
        "\n",
        "DGIS (2 de diciembre de 2016). \"Defunciones de mujeres de 25 años y más por tumor maligno de mama (C50), 2000-2015\", Dirección General de Información en Salud (DGIS) Secretaría de Salud (SSA), México. Recuperado de: https://www.gob.mx/cms/uploads/attachment/file/269549/MortalidadCaMa2000a2015.pdf\n",
        "\n",
        "OCDE (1 de julio de 2020). “Health Status: Cancer”, OECD Statistics technology, Organización para la Cooperación y el Desarrollo Económico (OCDE). Recuperado de: https://stats.oecd.org/index.aspx?queryid=30121#\n",
        "\n",
        "OMS (2 de marzo de 2021). “Global Health Expenditure Database (GHED)”, Data Explorer, Organización Mundial de la Salud (OMS). Recuperado de: https://apps.who.int/nha/database/Select/Indicators/en"
      ]
    }
  ]
}
