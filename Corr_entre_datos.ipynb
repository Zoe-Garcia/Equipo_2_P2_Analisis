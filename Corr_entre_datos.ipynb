{
  "nbformat": 4,
  "nbformat_minor": 0,
  "metadata": {
    "colab": {
      "name": "Corr entre datos.ipynb",
      "provenance": [],
      "authorship_tag": "ABX9TyMLsC7s4yfscP4wS63X6tSY",
      "include_colab_link": true
    },
    "kernelspec": {
      "name": "python3",
      "display_name": "Python 3"
    },
    "language_info": {
      "name": "python"
    }
  },
  "cells": [
    {
      "cell_type": "markdown",
      "metadata": {
        "id": "view-in-github",
        "colab_type": "text"
      },
      "source": [
        "<a href=\"https://colab.research.google.com/github/zoegarm/Cancer-de-mama-en-Mexico-analisis/blob/main/Corr_entre_datos.ipynb\" target=\"_parent\"><img src=\"https://colab.research.google.com/assets/colab-badge.svg\" alt=\"Open In Colab\"/></a>"
      ]
    },
    {
      "cell_type": "markdown",
      "metadata": {
        "id": "aKs7h_jm_OYC"
      },
      "source": [
        "#Correlación entre artículos publicados y el número de mastografías realizado.\n",
        "\n",
        "## Esta actualización tiene como objetivo el observar la correlación entre el número de publicaciones con tema cáncer de mama y el índice de atención."
      ]
    },
    {
      "cell_type": "code",
      "metadata": {
        "id": "2p_IAiAY_KTs"
      },
      "source": [
        "# Importamos las librerias y obtenemos \n",
        "import numpy as np\n",
        "import pandas as pd\n",
        "import matplotlib.pyplot as plt\n",
        "from sklearn.linear_model import LinearRegression\n",
        "from sklearn.model_selection import train_test_split\n",
        "from sklearn import metrics\n",
        "import seaborn  as sns\n",
        "\n",
        "sns.set(style='darkgrid')"
      ],
      "execution_count": 301,
      "outputs": []
    },
    {
      "cell_type": "code",
      "metadata": {
        "colab": {
          "base_uri": "https://localhost:8080/"
        },
        "id": "TAL9MU_z_uo2",
        "outputId": "900a0532-11e3-4536-cfd9-393653a040b6"
      },
      "source": [
        "# Cargamos los DS para cada año\n",
        "\n",
        "# renombramos los datos en los DF\n",
        "renombre = {\n",
        "    'Coahuila de Zaragoza': 'Coahuila',\n",
        "    'Ciudad de México': 'Distrito Federal',\n",
        "    'Michoacán de Ocampo': 'Michoacán',\n",
        "    'Veracruz de Ignacio de la Llave': 'Veracruz',\n",
        "    'Estado de México': 'México'}\n",
        "\n",
        "#2013\n",
        "sicam13_estado = pd.read_csv(\"https://raw.githubusercontent.com/zoegarm/Cancer-de-mama-en-Mexico-analisis/main/DATA_CLEAN/SICAM/masto_2013_SICAM_estado.csv\", index_col=0)\n",
        "sicam13_estado = sicam13_estado.replace({\"estado\": renombre})\n",
        "\n",
        "# 2014\n",
        "sicam14_estado = pd.read_csv(\"https://raw.githubusercontent.com/zoegarm/Cancer-de-mama-en-Mexico-analisis/main/DATA_CLEAN/SICAM/masto_2014_SICAM_estado.csv\", index_col=0)\n",
        "sicam14_estado = sicam14_estado.replace({\"estado\": renombre})\n",
        "\n",
        "# 2015\n",
        "sicam15_estado = pd.read_csv(\"https://raw.githubusercontent.com/zoegarm/Cancer-de-mama-en-Mexico-analisis/main/DATA_CLEAN/SICAM/masto_2015_SICAM_estado.csv\", index_col=0)\n",
        "sicam15_estado = sicam15_estado.replace({\"estado\": renombre})\n",
        "\n",
        "# 2016\n",
        "sicam16_estado = pd.read_csv(\"https://raw.githubusercontent.com/zoegarm/Cancer-de-mama-en-Mexico-analisis/main/DATA_CLEAN/SICAM/masto_2016_SICAM_estado.csv\", index_col=0)\n",
        "sicam16_estado = sicam16_estado.replace({\"estado\": renombre})\n",
        "\n",
        "# 2017\n",
        "sicam17_estado = pd.read_csv(\"https://raw.githubusercontent.com/zoegarm/Cancer-de-mama-en-Mexico-analisis/main/DATA_CLEAN/SICAM/masto_2017_SICAM_estado.csv\", index_col=0)\n",
        "sicam17_estado = sicam17_estado.replace({\"estado\": renombre})\n",
        "\n",
        "# 2019\n",
        "sicam19_estado = pd.read_csv(\"https://raw.githubusercontent.com/zoegarm/Cancer-de-mama-en-Mexico-analisis/main/DATA_CLEAN/SICAM/masto_2019_SICAM_estado.csv\", index_col=0)\n",
        "sicam19_estado = sicam19_estado.replace({\"estado\": renombre})\n",
        "\n",
        "# Hacems un DF con todos los datos\n",
        "masto = sicam13_estado.append([sicam14_estado, sicam15_estado, sicam16_estado, sicam17_estado, sicam19_estado]).reset_index(drop=True)\n",
        "masto.tail()\n",
        "\n",
        "\n",
        "\n",
        "# realiamos un DS con el total por año\n",
        "conteo = {'year': list(range(2013, 2020)), \n",
        "          'num_pruebas': [sicam13_estado['count'].sum(), sicam14_estado['count'].sum(), \n",
        "                                sicam15_estado['count'].sum(), sicam16_estado['count'].sum(),\n",
        "                                sicam17_estado['count'].sum(), None, sicam19_estado['count'].sum()]}\n",
        "\n",
        "conteo = pd.Series(conteo['num_pruebas'], index=conteo['year'])\n",
        "# conteo['Numero de pruebas'] = conteo['Numero de pruebas']/10e2\n",
        "\n",
        "conteo"
      ],
      "execution_count": 302,
      "outputs": [
        {
          "output_type": "execute_result",
          "data": {
            "text/plain": [
              "2013    790051.0\n",
              "2014    816704.0\n",
              "2015    944800.0\n",
              "2016    855318.0\n",
              "2017    855017.0\n",
              "2018         NaN\n",
              "2019    790718.0\n",
              "dtype: float64"
            ]
          },
          "metadata": {},
          "execution_count": 302
        }
      ]
    },
    {
      "cell_type": "code",
      "metadata": {
        "colab": {
          "base_uri": "https://localhost:8080/"
        },
        "id": "cnhlC_TZBYWC",
        "outputId": "450c5433-1a1e-41f4-b8ca-ae2ef8ce24d2"
      },
      "source": [
        "#importo mis DS y los junto en un DF\n",
        "\n",
        "web_scrap = []\n",
        "\n",
        "for i in range(3,10):\n",
        "  x = pd.read_csv(f\"https://raw.githubusercontent.com/zoegarm/Equipo_2_P2_Analisis/main/DATA_CLEAN/WebScrapping_clean/Scrapping_201{i}_clean.csv\", index_col=0)\n",
        "  web_scrap.append(x)\n",
        "\n",
        "web_scrap = pd.concat(web_scrap)\n",
        "\n",
        "#filtro los totales de artículos publicados:\n",
        "#creo un DF que tenga el conteo total de artículos por mes y año:\n",
        "web_scrap_count = web_scrap.groupby(['year', 'mes'])[['mes']].agg('count').rename(columns = {'mes':'total_articulos'}).reset_index()\n",
        "total_articulos = pd.Series(list(web_scrap_count.groupby(['year'])['total_articulos'].agg('sum')), index = [i for i in range(2013, 2020)])\n",
        "years = pd.Series([i for i in range(2013,2020)])\n",
        "\n",
        "total_articulos"
      ],
      "execution_count": 303,
      "outputs": [
        {
          "output_type": "execute_result",
          "data": {
            "text/plain": [
              "2013    250\n",
              "2014    220\n",
              "2015    297\n",
              "2016    256\n",
              "2017    287\n",
              "2018    294\n",
              "2019    316\n",
              "dtype: int64"
            ]
          },
          "metadata": {},
          "execution_count": 303
        }
      ]
    },
    {
      "cell_type": "code",
      "metadata": {
        "colab": {
          "base_uri": "https://localhost:8080/"
        },
        "id": "aTRyObwnHzBP",
        "outputId": "b57e4bae-117c-45a0-e9a2-a93e3a37a6be"
      },
      "source": [
        "#cargo el DS de interés de búsqueda en google: \n",
        "interes_busqueda = pd.read_csv('https://raw.githubusercontent.com/zoegarm/Equipo_2_P2_Analisis/main/DATA_CLEAN/Indice_Atencion/interes_cancer_de_mama_busqueda_clean.csv', index_col=0)\n",
        "interes_busqueda['fecha'] = pd.to_datetime(interes_busqueda['fecha'])\n",
        "interes_busqueda['year'] = list(interes_busqueda.fecha.dt.year)\n",
        "interes_busqueda['mes'] = list(interes_busqueda.fecha.dt.month)\n",
        "interes_busqueda = interes_busqueda[interes_busqueda['year']<2020]\n",
        "interes_agno = pd.Series(interes_busqueda.groupby(['year'])['interes_en_cancer'].agg('sum'), index= [i for i in range(2013, 2020)])\n",
        "\n",
        "interes_agno"
      ],
      "execution_count": 304,
      "outputs": [
        {
          "output_type": "execute_result",
          "data": {
            "text/plain": [
              "2013    161\n",
              "2014    221\n",
              "2015    236\n",
              "2016    180\n",
              "2017    222\n",
              "2018    308\n",
              "2019    376\n",
              "Name: interes_en_cancer, dtype: int64"
            ]
          },
          "metadata": {},
          "execution_count": 304
        }
      ]
    },
    {
      "cell_type": "markdown",
      "metadata": {
        "id": "O9NWnT8hKHgt"
      },
      "source": [
        "Grafico el logaritmo de los datos para visualizar mejor la imágen: "
      ]
    },
    {
      "cell_type": "code",
      "metadata": {
        "colab": {
          "base_uri": "https://localhost:8080/",
          "height": 286
        },
        "id": "bfuIi7F9D6k9",
        "outputId": "ba74e438-a359-43e7-bdcb-594a375cae6f"
      },
      "source": [
        "plt.scatter(conteo.index, np.log(conteo))\n",
        "plt.scatter(total_articulos.index, np.log(total_articulos))\n",
        "plt.scatter(interes_agno.index, np.log(interes_agno))\n",
        "# plt.ylim(7e5, 10e5)"
      ],
      "execution_count": 305,
      "outputs": [
        {
          "output_type": "execute_result",
          "data": {
            "text/plain": [
              "<matplotlib.collections.PathCollection at 0x7fb2665b6050>"
            ]
          },
          "metadata": {},
          "execution_count": 305
        },
        {
          "output_type": "display_data",
          "data": {
            "image/png": "[encoded data removed]",
            "text/plain": [
              "<Figure size 432x288 with 1 Axes>"
            ]
          },
          "metadata": {}
        }
      ]
    },
    {
      "cell_type": "code",
      "metadata": {
        "id": "vCYjkCnJElHM"
      },
      "source": [
        "df = pd.concat((conteo, total_articulos, interes_agno), axis = 1)\n",
        "df = df.rename(columns = {0:'conteo', 1: 'articulos', 'interes_en_cancer':'interes'})"
      ],
      "execution_count": 311,
      "outputs": []
    },
    {
      "cell_type": "code",
      "metadata": {
        "colab": {
          "base_uri": "https://localhost:8080/"
        },
        "id": "DPobbKW4fsBx",
        "outputId": "5e7708e4-21f3-4c3c-c31e-7a8774759a2e"
      },
      "source": [
        "#dropeo los datos del 2018 porque no están disponibles para el conteo de mastografías:\n",
        "df = df.drop(index=[2018]) \n",
        "\n",
        "#reviso qué datos son representativos:\n",
        "\n",
        "Q1 = np.percentile(df.interes, 25, interpolation = 'midpoint') \n",
        "Q2 = np.percentile(df.interes, 75, interpolation = 'midpoint') \n",
        "\n",
        "print(f'el rango para el interés es: {Q1} - {Q2}')\n",
        "\n",
        "Q1 = np.percentile(df.articulos, 25, interpolation = 'midpoint') \n",
        "Q2 = np.percentile(df.articulos, 75, interpolation = 'midpoint') \n",
        "\n",
        "print(f'el rango para el número de articulos es: {Q1} - {Q2}')\n",
        "\n",
        "Q1 = np.percentile(df.conteo, 25, interpolation = 'midpoint') \n",
        "Q2 = np.percentile(df.conteo, 75, interpolation = 'midpoint') \n",
        "\n",
        "print(f'el rango para el conteo de mastografías es: {Q1} - {Q2}')"
      ],
      "execution_count": 313,
      "outputs": [
        {
          "output_type": "stream",
          "name": "stdout",
          "text": [
            "el rango para el interés es: 200.5 - 229.0\n",
            "el rango para el número de articulos es: 253.0 - 292.0\n",
            "el rango para el conteo de mastografías es: 803711.0 - 855167.5\n"
          ]
        }
      ]
    },
    {
      "cell_type": "markdown",
      "metadata": {
        "id": "x3sm8V9Vvj2-"
      },
      "source": [
        "Según esta estimación son outliers los datos para los años 2013 y 2019, ya que sus valores salen del rango en más de una categoría."
      ]
    },
    {
      "cell_type": "code",
      "metadata": {
        "colab": {
          "base_uri": "https://localhost:8080/",
          "height": 143
        },
        "id": "p4EvAH7gOyav",
        "outputId": "29f5a6d3-b9f8-4aa0-a0ff-e11f06351758"
      },
      "source": [
        "df = df.drop(index=[2019, 2013])\n",
        "df.corr()"
      ],
      "execution_count": 315,
      "outputs": [
        {
          "output_type": "execute_result",
          "data": {
            "text/html": [
              "<div>\n",
              "<style scoped>\n",
              "    .dataframe tbody tr th:only-of-type {\n",
              "        vertical-align: middle;\n",
              "    }\n",
              "\n",
              "    .dataframe tbody tr th {\n",
              "        vertical-align: top;\n",
              "    }\n",
              "\n",
              "    .dataframe thead th {\n",
              "        text-align: right;\n",
              "    }\n",
              "</style>\n",
              "<table border=\"1\" class=\"dataframe\">\n",
              "  <thead>\n",
              "    <tr style=\"text-align: right;\">\n",
              "      <th></th>\n",
              "      <th>conteo</th>\n",
              "      <th>articulos</th>\n",
              "      <th>interes</th>\n",
              "    </tr>\n",
              "  </thead>\n",
              "  <tbody>\n",
              "    <tr>\n",
              "      <th>conteo</th>\n",
              "      <td>1.000000</td>\n",
              "      <td>0.811985</td>\n",
              "      <td>0.420993</td>\n",
              "    </tr>\n",
              "    <tr>\n",
              "      <th>articulos</th>\n",
              "      <td>0.811985</td>\n",
              "      <td>1.000000</td>\n",
              "      <td>0.346268</td>\n",
              "    </tr>\n",
              "    <tr>\n",
              "      <th>interes</th>\n",
              "      <td>0.420993</td>\n",
              "      <td>0.346268</td>\n",
              "      <td>1.000000</td>\n",
              "    </tr>\n",
              "  </tbody>\n",
              "</table>\n",
              "</div>"
            ],
            "text/plain": [
              "             conteo  articulos   interes\n",
              "conteo     1.000000   0.811985  0.420993\n",
              "articulos  0.811985   1.000000  0.346268\n",
              "interes    0.420993   0.346268  1.000000"
            ]
          },
          "metadata": {},
          "execution_count": 315
        }
      ]
    },
    {
      "cell_type": "code",
      "metadata": {
        "colab": {
          "base_uri": "https://localhost:8080/",
          "height": 550
        },
        "id": "-VqkzYNxVAoH",
        "outputId": "c5e2495c-b49f-449a-9fdd-cc8c9e80e085"
      },
      "source": [
        "plt.figure(figsize=(12, 8))\n",
        "\n",
        "df = df.sort_values(by = 'conteo')\n",
        "plt.scatter(df.conteo, df.articulos, color = 'r')\n",
        "plt.plot(df.conteo, df.articulos, color = 'b')\n",
        "\n",
        "plt.xlabel('Conteo de Mastografías ($10^6$)', fontsize = 15)\n",
        "plt.ylabel('Número de Artículos', fontsize = 15)\n",
        "\n",
        "plt.xticks(ticks=[820000, 840000, 860000, 880000, 900000, 920000, 940000], labels = [\"82\", \"84\", \"86\", \"88\", \"90\", \"92\", \"94\"])\n",
        "\n",
        "plt.title('Conteo de Mastografías vs N° de Artículos web publicados', fontsize = 20)"
      ],
      "execution_count": 334,
      "outputs": [
        {
          "output_type": "execute_result",
          "data": {
            "text/plain": [
              "Text(0.5, 1.0, 'Conteo de Mastografías vs N° de Artículos web publicados')"
            ]
          },
          "metadata": {},
          "execution_count": 334
        },
        {
          "output_type": "display_data",
          "data": {
            "image/png": "[encoded data removed]",
            "text/plain": [
              "<Figure size 864x576 with 1 Axes>"
            ]
          },
          "metadata": {}
        }
      ]
    },
    {
      "cell_type": "markdown",
      "metadata": {
        "id": "iih2eF6Jywsn"
      },
      "source": [
        "Aunque la correlación de Pearson para este gráfico es del 0.81 y muestra que hay una relación entre el número de publicaciones web realizadas y el conteo de mastografías, yo no me atravería a decir que esta es una prueba conclusiva de que efectivamente -entre más artículos se publiquen, entonces más personas se realizan tratamientos preventivos-, esto debido al número de datos con el que cuento, ya que no es lo suficientemente extenso. A falta de una prueba que indique lo contrario, por otro lado, me aventuro a decir que puede ser verdadera y que solo podríamos averiguar más si contasemos con una base de datos más extensa, que para nuestra mala suerte no está disponible. Aún así, realizar difusión acerca de un tema de salud como lo es el cáncer de mama es muy importante, ya que sí se ha demostrado que una valoración temprana puede, en la mayoría de los casos, cambiar de manera drástica la forma en la que se combate el cáncer de mama."
      ]
    },
    {
      "cell_type": "code",
      "metadata": {
        "id": "gIOnySl35Ak7"
      },
      "source": [
        ""
      ],
      "execution_count": null,
      "outputs": []
    }
  ]
}