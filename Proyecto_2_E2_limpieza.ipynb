{
  "nbformat": 4,
  "nbformat_minor": 0,
  "metadata": {
    "colab": {
      "name": "Proyecto_2_E2_limpieza.ipynb",
      "provenance": []
    },
    "kernelspec": {
      "display_name": "Python 3",
      "language": "python",
      "name": "python3"
    },
    "language_info": {
      "codemirror_mode": {
        "name": "ipython",
        "version": 3
      },
      "file_extension": ".py",
      "mimetype": "text/x-python",
      "name": "python",
      "nbconvert_exporter": "python",
      "pygments_lexer": "ipython3",
      "version": "3.8.5"
    }
  },
  "cells": [
    {
      "cell_type": "markdown",
      "metadata": {
        "id": "7x4vTC2CRMlJ"
      },
      "source": [
        "# **Equipo 2**\n",
        "## **Proyecto: Cancer de mama en México**\n",
        "\n",
        "#### Integrantes:\n",
        "- Zoé Ariel García Martínez\n",
        "- Atenea De La Cruz Brito"
      ]
    },
    {
      "cell_type": "code",
      "metadata": {
        "id": "2G9ii-8ETh8G"
      },
      "source": [
        "import numpy as np\n",
        "import pandas as pd\n",
        "import matplotlib.pyplot as plt"
      ],
      "execution_count": null,
      "outputs": []
    },
    {
      "cell_type": "markdown",
      "metadata": {
        "id": "zixrZVXvUkqv"
      },
      "source": [
        "# El Set del SICAM"
      ]
    },
    {
      "cell_type": "code",
      "metadata": {
        "id": "20oCMoFUUoj4"
      },
      "source": [
        "columnas  = ['Clave Entidad', 'Clave Jurisdicción', 'Jurisdicción', 'Clave Municipio', 'Municipio', 'Fecha Toma Masto', 'Fecha Interpretación Masto']\n",
        "\n",
        "c_rename = {\n",
        "    'Fecha Interpretación Masto': 'fecha_interpretacion_masto',\n",
        "    'Fecha Toma Masto': 'fecha_toma_masto',\n",
        "    'Edad': 'edad',\n",
        "    'Entidad': 'estado',\n",
        "    'Resultado': 'resultado'\n",
        "}\n",
        "\n",
        "for i in range(3, 10):\n",
        "    if i != 8:\n",
        "        \n",
        "        d_sicam = pd.read_csv(f\"Mastografías 201{i}.csv\", encoding = 'latin-1', header = 1)\n",
        "        d_sicam = d_sicam.drop(columns = columnas)\n",
        "\n",
        "        d_sicam = d_sicam.rename(columns = c_rename)\n",
        "        d_sicam = d_sicam.dropna()\n",
        "\n",
        "        d_sicam = d_sicam.astype(dicc_conversion)\n",
        "\n",
        "        #ahora agrupo por resultado de mastografía y estado:\n",
        "        d_sicam_agrupada_estado = d_sicam.groupby([\"resultado\", \"estado\"])[[\"estado\"]].agg(\"count\")\n",
        "        d_sicam_agrupada_estado = d_sicam_agrupada_estado.rename(columns = {'estado':'cuenta'}).reset_index()\n",
        "        d_sicam_agrupada_estado.to_csv(f'masto_201{i}_SICAM_estado.csv')\n",
        "\n",
        "        #relación Estado y Edad\n",
        "        d_sicam_agrupada_estado = d_sicam.groupby([\"estado\", \"edad\"])[[\"edad\"]].agg(\"count\")\n",
        "        d_sicam_agrupada_estado = d_sicam_agrupada_estado.rename(columns = {'edad':'cuenta'}).reset_index()\n",
        "        d_sicam_agrupada_estado.to_csv(f'masto_201{i}_SICAM_estado_edad.csv')\n",
        "\n",
        "        #ahora agrupo por resultado de tomografía y edad:\n",
        "        d_sicam_agrupada_edad = d_sicam.groupby([\"resultado\", \"edad\"])[[\"edad\"]].agg(\"count\")\n",
        "        d_sicam_agrupada_edad = d_sicam_agrupada_edad.rename(columns = {'edad':'cuenta'}).reset_index()\n",
        "        d_sicam_agrupada_edad.to_csv(f'masto_201{i}_SICAM_edad.csv')"
      ],
      "execution_count": null,
      "outputs": []
    },
    {
      "cell_type": "markdown",
      "metadata": {
        "id": "0NHYvayxTh8J"
      },
      "source": [
        "# Data set morbilidad\n",
        "\n",
        "contiene información acerca de la morbilidad \n",
        "(incidencia de enfermedad) en mujeres \n",
        "en las distintas entidades federativas de \n",
        "la república Mexicana."
      ]
    },
    {
      "cell_type": "markdown",
      "metadata": {
        "id": "Yeq5t0QMTh8J"
      },
      "source": [
        "##### Mientras buscaba los datos de mortabilidad asociados al cancer de mama, pude darme cuenta que solo habían datos accesibles en formato ```pdf``` por esta razón, tuve que transformar los datos a ```csv```, para esto usé la paquetería ```tabula``` y realicé una función para automatizar la transformación de los archivos correspondientes: "
      ]
    },
    {
      "cell_type": "code",
      "metadata": {
        "id": "jP3c4OrDTh8J",
        "outputId": "03ddcfe8-45f4-4fb7-a955-4173bd3b30f3"
      },
      "source": [
        "#imoporto la librería y hago una prueba con un archivo:\n",
        "from tabula import convert_into\n",
        "convert_into(\"morbilidad_2013.pdf\", \"test.csv\", output_format=\"csv\")\n",
        "\n",
        "#defino mi transformador\n",
        "def transformador(file, salida): \n",
        "    d = convert_into(file, salida, outuput_format = 'csv')\n",
        "    return d\n",
        "\n",
        "#creo listas con los nombres de los archivos correspondientes: \n",
        "lista_pdf = []\n",
        "lista_csv = []\n",
        "for i in range(3, 10):\n",
        "    lista_pdf.append(f\"morbilidad_201{i}.pdf\")\n",
        "    lista_csv.append(f\"morbilidad_201{i}.csv\")\n",
        "    \n",
        "print(lista_pdf, '\\n', lista_csv)\n",
        "\n",
        "#transformo en el rango de mis listas\n",
        "for i in range(0,len(lista_pdf)):\n",
        "    transformador(lista_pdf[i], lista_csv[i])"
      ],
      "execution_count": null,
      "outputs": [
        {
          "output_type": "stream",
          "text": [
            "['morbilidad_2013.pdf', 'morbilidad_2014.pdf', 'morbilidad_2015.pdf', 'morbilidad_2016.pdf', 'morbilidad_2017.pdf', 'morbilidad_2018.pdf', 'morbilidad_2019.pdf'] \n",
            " ['morbilidad_2013.csv', 'morbilidad_2014.csv', 'morbilidad_2015.csv', 'morbilidad_2016.csv', 'morbilidad_2017.csv', 'morbilidad_2018.csv', 'morbilidad_2019.csv']\n"
          ],
          "name": "stdout"
        }
      ]
    },
    {
      "cell_type": "markdown",
      "metadata": {
        "id": "_0t73zTjTh8L"
      },
      "source": [
        "Datos disponibles en la fuente: SALUD, Dirección General de Epidemiología (DGE). (2020). Anuarios de Morbilidad 1984-2019. Disponible en: https://epidemiologia.salud.gob.mx/anuario/html/incidencia_enfermedad.html"
      ]
    },
    {
      "cell_type": "code",
      "metadata": {
        "id": "9xs-2n8ZTh8L"
      },
      "source": [
        "#diccionario para cambiar nombres de columnas y demás...\n",
        "\n",
        "dicc_nombre = {\n",
        "    'Unnamed: 0': 'estado',\n",
        "    'Unnamed: 12': 'incidencia'\n",
        "}\n",
        "\n",
        "estado = ['Campeche','Aguascalientes','Jalisco','Veracruz','San Luis Potosí','Yucatán',\n",
        "            'Chihuahua','Durango', 'Sinaloa', 'Colima', 'Morelos', 'Baja California', 'Michoacán', \n",
        "            'Ciudad de México', 'Baja California Sur', 'Nuevo León', 'TOTAL GLOBAL', 'Sonora',\n",
        "            'Tamaulipas', 'Nayarit', 'Quintana Roo', 'Coahuila', 'Oaxaca', 'Chiapas', 'Guanajuato', \n",
        "            'Querétaro', 'Tabasco', 'Puebla', 'Zacatecas', 'Tlaxcala', 'Hidalgo', 'México', 'Guerrero']"
      ],
      "execution_count": null,
      "outputs": []
    },
    {
      "cell_type": "markdown",
      "metadata": {
        "id": "bvV3E0C_Th8M"
      },
      "source": [
        "### una vez en csv los limpio de manera automática:  "
      ]
    },
    {
      "cell_type": "code",
      "metadata": {
        "id": "GQuFqE4FTh8M"
      },
      "source": [
        "for i in range(3, 10):\n",
        "    morbilidad = pd.read_csv(f'morbilidad_201{i}.csv', encoding = 'latin-1', header = 2)\n",
        "    morbilidad = morbilidad.rename(columns = dicc_nombre)\n",
        "    morbilidad = morbilidad.sort_values(by=\"incidencia\",ascending =False).reset_index(drop = True)\n",
        "\n",
        "    #como me encontré unos \"N.A\" dentro de algunas columnas las limpie usando .to_numeric, exceptuando la primer fila, que es la de los estados\n",
        "    for elemento in range(0, len(list(morbilidad))):\n",
        "        if elemento != 0:\n",
        "            morbilidad.iloc[:, elemento] = pd.to_numeric(morbilidad.iloc[: ,elemento], errors = 'coerce').fillna(value = 0)\n",
        "\n",
        "    morbilidad['estado'] = estado\n",
        "    morbilidad.to_csv(f\"morbilidad_201{i}_clean.csv\")"
      ],
      "execution_count": null,
      "outputs": []
    },
    {
      "cell_type": "markdown",
      "metadata": {
        "id": "C4XtDpGpsye4"
      },
      "source": [
        "# Data set SSA\n",
        "\n",
        "Gasto en Salud en el Sistema Nacional de Salud, México\n",
        "\n",
        "Observaciones: Estados de la República\n",
        "Periodo: 1993-2017\n",
        "Archivo: \"1._GFF_01_2017_A_CONS_O.csv\"\n",
        "Fuente: Dirección General de Información en Salud (DGIS) Secretaría de Salud (SSA)."
      ]
    },
    {
      "cell_type": "markdown",
      "metadata": {
        "id": "stxCg9UxYtDT"
      },
      "source": [
        "##### **I. Carga de datos**"
      ]
    },
    {
      "cell_type": "code",
      "metadata": {
        "id": "fBKVUwrNSLDs"
      },
      "source": [
        "### PRIMER DATASET: DGIS (2019). \"Gasto en Salud, 1993-2017 (miles de pesos constantes, 2017=100)\"\n",
        "## I.Cargar datos en formato csv\n",
        "\n",
        "#ADVERTENCIA: Archivo en  latin-1\n",
        "gasto_salud = pd.read_csv(\"https://raw.githubusercontent.com/Zoe-Garcia/Equipo_2_P2/main/DATA/SSA%20Mexico/1._GFF_01_2017_A_CONS_O.csv\", sep=',', encoding='latin-1')\n",
        "\n",
        "#Eliminar columnas con todos los valores NaN\n",
        "gasto_salud.dropna(axis=1, how='all')\n",
        "#Nota: Este proceso elimina las columnas sin datos desde 'Unnamed: 31' hasta 'Unnamed: 65'\n",
        "\n",
        "#Guardar cambios de eliminación de columnas NaN en Data Frame\n",
        "gasto_salud_drop = gasto_salud.dropna(axis=1, how='all')\n",
        "#Sin embargo, aparecen valores \"n.d. que son en realidad \"NaN\"\n",
        "\n",
        "#Remplazar n.d. por NaN para tener el verdadero conteo de nulos\n",
        "gasto_salud_drop = gasto_salud_drop.replace('n.d.', np.NaN)\n",
        "\n",
        "#Repetir el proceso anterior de limpieza de columnas con NaN\n",
        "gasto_salud_drop = gasto_salud_drop.dropna(axis=1, how='all')\n",
        "\n",
        "#Eliminar filas con todos los valores NaN\n",
        "gasto_salud_drop.dropna(axis=0, how='all')\n",
        "#Nota: Este proceso elimina la úlitma fila sin información, índice 832\n",
        "\n",
        "#Guardar cambios de eliminación de fila NaN en Data Frame\n",
        "gasto_salud_drop = gasto_salud_drop.dropna(axis=0, how='all')\n",
        "\n",
        "#Se eliminan dichas columnas para poder tener un mejor análisis\n",
        "gasto_salud_drop = gasto_salud_drop.drop(['Gasto Total en Salud\\n(I.1 + I.2)', 'C. IMSS \\nProspera', 'D. SEDENA\\n(Ramo 7)', 'E. SEMAR\\n(Ramo 13)', 'D. ISSFAM', 'E. ISSES', 'I.2 Gasto Privado Total en Salud\\n(Miles de pesos constantes)\\n(A + B + C)', 'A. Gasto de los Hogares e ISFL', 'Gasto total en salud como % del PIB', 'Gasto público total en salud como % del gasto total en salud', 'Gasto privado en salud per cápita'], axis=1)\n",
        "\n",
        "#Contar nuevamente los NaN\n",
        "gasto_salud_drop.isna().sum(axis=0)\n",
        "\n",
        "#Identificar fila donde inicia año 2000\n",
        "gasto_salud_drop.iloc[238]\n",
        "#Eliminar filas con muchos NaN, correspondientes a los años 1993-1999, para igualar periodo con el Segundo DataFrame sobre mortalidad\n",
        "gasto_salud_drop = gasto_salud_drop.drop(gasto_salud_drop.index[range(238)])\n",
        "\n",
        "#Repetir proceso de eliminación de columnas con NaN numerosas\n",
        "gasto_salud_drop = gasto_salud_drop.drop(['C. PEMEX'], axis=1)\n",
        "\n",
        "#Convertir en 0 los NaN de columnas 'F. Gasto \\nEstatal' y 'B. Cuotas de Recuperación'\n",
        "gasto_salud_drop['F. Gasto \\nEstatal'] = gasto_salud_drop['F. Gasto \\nEstatal'].fillna(0)\n",
        "gasto_salud_drop['B. Cuotas de Recuperación'] = gasto_salud_drop['B. Cuotas de Recuperación'].fillna(0)\n",
        "\n",
        "#Evaluar nuevamente los NaN por columna\n",
        "gasto_salud_drop.isna().sum(axis=0)\n",
        "#Nota: Obtenemos 0 NaN\n",
        "\n",
        "#Convertir 'Año' en datetime\n",
        "gasto_salud_drop['Año'] = gasto_salud_drop['Año'].apply(np.int64)\n",
        "gasto_salud_drop['Año'] = pd.to_datetime(gasto_salud_drop['Año'].astype(str), format='%Y')\n",
        "gasto_salud_drop.head()\n",
        "\n",
        "#Convertir datos object en numéricos\n",
        "gasto_salud_drop['B. FASSA (Ramo 33)'] = gasto_salud_drop['B. FASSA (Ramo 33)'].apply(np.float64)\n",
        "gasto_salud_drop['F. Gasto \\nEstatal'] = gasto_salud_drop['F. Gasto \\nEstatal'].apply(np.float64)\n",
        "gasto_salud_drop['B. Cuotas de Recuperación'] = gasto_salud_drop['B. Cuotas de Recuperación'].apply(np.float64)\n",
        "gasto_salud_drop['C. Pago de Primas'] = gasto_salud_drop['C. Pago de Primas'].apply(np.float64)\n",
        "gasto_salud_drop['Gasto público total en salud como % del gasto público total'] = gasto_salud_drop['Gasto público total en salud como % del gasto público total'].apply(np.float64)\n",
        "gasto_salud_drop['Gasto público en salud per cápita para población con seguridad social'] = gasto_salud_drop['Gasto público en salud per cápita para población con seguridad social'].apply(np.float64)\n",
        "gasto_salud_drop['Gasto público en salud per cápita para población sin seguridad social '] = gasto_salud_drop['Gasto público en salud per cápita para población sin seguridad social '].apply(np.float64)\n",
        "gasto_salud_drop['Aportación federal al financiamiento de la salud de la población sin seguridad social (%)'] = gasto_salud_drop['Aportación federal al financiamiento de la salud de la población sin seguridad social (%)'].apply(np.float64)\n",
        "\n",
        "#Renombrar columnas: primer paso, crear mapa\n",
        "column_name_mapping = {\n",
        "    'Entidad Federativa' : 'Estado', \n",
        "    'Año' : 'Año',\n",
        "       'Producto Interno Bruto                       (Miles de pesos)' : 'PIB en miles de pesos',\n",
        "       'I.1 Gasto Público Total en Salud\\n(Miles de pesos)\\n(1 + 2)' : 'Total gasto público en salud',\n",
        "       '1. Gasto Total \\n(A+B+C+D+E+F) con SS' : 'Subtotal no asegurados',\n",
        "       'A. Advo. Secretaria de Salud\\n(Ramo 12)' : 'Gasto administrativo SSA', \n",
        "       'B. FASSA (Ramo 33)' : 'Aportaciones federales',\n",
        "       'F. Gasto \\nEstatal' : 'Gasto estatal en salud', \n",
        "       '2. Gasto Total\\n(A+B+C+D+E) sin SS' : 'Subtotal asegurados', \n",
        "       'A. IMSS' : 'IMSS',\n",
        "       'B. ISSSTE' : 'ISSSTE', \n",
        "       'B. Cuotas de Recuperación' : 'Cuotas de recuperación', \n",
        "       'C. Pago de Primas' : 'Primas de seguros médicos',\n",
        "       'Gasto  público total en salud como % del PIB' : 'Total gasto en salud % PIB',\n",
        "       'Gasto público total en salud como % del gasto público total' : 'Total gasto en salud % gasto público',\n",
        "       'Gasto público en salud per cápita para población con seguridad social' : 'Gasto en salud asegurados per cápita',\n",
        "       'Gasto público en salud per cápita para población sin seguridad social ' : 'Gasto en salud no asegurados per cápita',\n",
        "       'Gasto público en salud per cápita total' : 'Total gasto en salud per cápita',\n",
        "       'Aportación federal al financiamiento de la salud de la población sin seguridad social (%)' : 'Aportación federal % no asegurados'\n",
        "}\n",
        "\n",
        "#Renombrar columnas: segundo paso, rename\n",
        "gasto_salud_rename = gasto_salud_drop.rename(columns=column_name_mapping).reset_index(drop=True)\n",
        "gasto_salud_rename.to_csv('gasto_salud_SSA_clean.csv')"
      ],
      "execution_count": null,
      "outputs": []
    },
    {
      "cell_type": "markdown",
      "metadata": {
        "id": "PC-VcK3CZOv6"
      },
      "source": [
        "##### **II. Limpieza de datos**"
      ]
    },
    {
      "cell_type": "markdown",
      "metadata": {
        "id": "r10LL9XUto8M"
      },
      "source": [
        "# DATASET MORTALIDAD\n",
        "Mortalidad cáncer de mama, México\n",
        "- Observaciones: Estados de la República\n",
        "- Periodo: 2000-2015\n",
        "- Archivo: \"MortalidadCaMa2000a2015.csv\"\n",
        "- Fuente: Dirección General de Información en Salud (DGIS) Secretaría de Salud (SSA)\n",
        "- Descripción: Defunciones de mujeres de 25 años y más por tumor maligno de mama (C50), 2000-2015"
      ]
    },
    {
      "cell_type": "markdown",
      "metadata": {
        "id": "rMgot3JNZ_op"
      },
      "source": [
        "##### **I. Carga de datos**"
      ]
    },
    {
      "cell_type": "code",
      "metadata": {
        "id": "NhLVngoWsrsT"
      },
      "source": [
        "### SEGUNDO DATASET: \n",
        "## I.Cargar datos en formato csv\n",
        "#NOTA: Archivo en  latin-1\n",
        "mortalidad = pd.read_csv(\"https://raw.githubusercontent.com/Zoe-Garcia/Equipo_2_P2/main/DATA/SSA%20Mexico/MortalidadCaMa2000a2015.csv\", sep=',', encoding='latin-1')\n",
        "\n",
        "#Cambiar nombre\n",
        "mortalidad_rename = mortalidad.rename(columns={'Entidad de Residencia' : 'Estado'})\n",
        "\n",
        "#Cambiar índice a 'Entidad de Residencia'\n",
        "mortalidad_rename = mortalidad_rename.set_index(['Estado'])\n",
        "\n",
        "mortalidad_rename.to_csv('mortalidad_2000-2015_clean.csv')"
      ],
      "execution_count": null,
      "outputs": []
    },
    {
      "cell_type": "markdown",
      "metadata": {
        "id": "vqd3ZKRETh87"
      },
      "source": [
        "# Data set:  Interés (Google Trends)\n",
        "\n",
        "  - data set con interés con respecto al tiempo en México\n",
        "  - data set con interés con respectp a Estado en México\n"
      ]
    },
    {
      "cell_type": "code",
      "metadata": {
        "id": "lvJKnse-Th87"
      },
      "source": [
        "import matplotlib.pyplot as plt\n",
        "\n",
        "interes_time = pd.read_csv('https://raw.githubusercontent.com/zoegarm/Equipo_2_P2_Analisis/main/DATA/Indice_atencion_2013-2019/interes_cancer_de_mama_tema.csv', header = 1)\n",
        "#renombro las columnas:\n",
        "\n",
        "nombres = {\n",
        "    'Mes': 'fecha',\n",
        "    'Cáncer de mama: (México)':'interes_en_cancer'\n",
        "}\n",
        "\n",
        "interes_time = interes_time.rename(columns = nombres)\n",
        "\n",
        "#cambio el tipo de dato 'mes', por uno fecha:\n",
        "interes_time['fecha'] = pd.to_datetime(interes_time['fecha'])\n",
        "\n",
        "interes_time.to_csv('interes_mex_2013_2020_clean.csv')\n"
      ],
      "execution_count": null,
      "outputs": []
    },
    {
      "cell_type": "code",
      "metadata": {
        "id": "3Z1BOePY7jZ-"
      },
      "source": [
        "interes_ciudad = pd.read_csv('https://raw.githubusercontent.com/zoegarm/Equipo_2_P2_Analisis/main/DATA/Indice_atencion_2013-2019/interes_por_region_tema.csv', header=1, sep=',')\n",
        "nombres = {'Región':'Estado', 'Cáncer de mama: (1/1/12 - 1/1/20)':'Interés'}\n",
        "interes_ciudad = interes_ciudad.rename(columns = nombres)\n",
        "\n",
        "interes_ciudad.to_csv('interes_ciudad_clean.csv')"
      ],
      "execution_count": null,
      "outputs": []
    },
    {
      "cell_type": "markdown",
      "metadata": {
        "id": "-f8Sp-NkTh88"
      },
      "source": [
        "# Data set WebScrapping:"
      ]
    },
    {
      "cell_type": "markdown",
      "metadata": {
        "id": "mDd7Q7KiTh88"
      },
      "source": [
        "### primero pondré aquí el código que usé para realizar el scrapping: "
      ]
    },
    {
      "cell_type": "markdown",
      "metadata": {
        "id": "SRSaRXTITh88"
      },
      "source": [
        "```Python\n",
        "from selenium import webdriver\n",
        "import time\n",
        "import numpy as np\n",
        "from numpy import random\n",
        "\n",
        "#despliego el navegador\n",
        "options = webdriver.ChromeOptions()\n",
        "options.add_argument('--disable-extensions')\n",
        "\n",
        "PATH = \"C:\\Program Files (x86)\\chromedriver.exe\"\n",
        "\n",
        "driver = webdriver.Chrome(PATH)\n",
        "url = 'https://www.google.com/search?q=cáncer+de+mama&lr=&cr=countryMX&hl=es&as_qdr=all&tbs=ctr:countryMX,cdr:1,cd_min:1/1/2013,cd_max:12/31/2013&sxsrf=ALeKk02jBq5CdA22tqCvC5cfnr1OMU7hmQ:1615318039798&filter=0&biw=1536&bih=723'\n",
        "driver.get(url)\n",
        "\n",
        "#formo todo en un webscrapper sobre google results: \n",
        "\n",
        "f = open('google_cancer_mama_2013.csv', 'w')\n",
        "\n",
        "f.write(('titulo, link, fecha' +'\\n'))\n",
        "c = []\n",
        "\n",
        "a = False\n",
        "\n",
        "for i in range(0,99):\n",
        "    \n",
        "    for element in driver.find_elements_by_xpath('//div[@class=\"g\"]'):\n",
        "        \n",
        "        titulo = element.find_element_by_xpath('.//h3').text\n",
        "        c += element.find_elements_by_xpath('.//span[@class = \"f\"]')\n",
        "    \n",
        "        if len(c)>0:\n",
        "            fecha = c[0].text\n",
        "        else:\n",
        "            fecha = str(np.nan)\n",
        "        \n",
        "        c = []\n",
        "        link = element.find_element_by_xpath('.//div[@class = \"yuRUbf\"]/a').get_attribute('href')\n",
        "        f.write(titulo.replace(',','|') +','+link.replace(',','|')+','+fecha.replace(',','|')+'\\n')\n",
        "    \n",
        "        a = random.choice([True, False, False])\n",
        "        t = random.choice([5,6,9,7,8,10,12,15,20,25,22,13,])\n",
        "\n",
        "    print(f'vamos en la página: {i+1}. Los segundos de espera son: {t}')\n",
        "    #hago un mini intento de \"engañar\" el motor de búsqueda de google:\n",
        "    if a == True:\n",
        "        time.sleep(t)\n",
        "    else: \n",
        "        time.sleep(t)\n",
        "\n",
        "    Next_Google_page = driver.find_element_by_link_text(\"Siguiente\").click()\n",
        "    driver.refresh()\n",
        "\n",
        "\n",
        "f.close()\n",
        "\n",
        "```"
      ]
    },
    {
      "cell_type": "markdown",
      "metadata": {
        "id": "Hz7QgV7wNOF-"
      },
      "source": [
        "## se realiza la limpieza: "
      ]
    },
    {
      "cell_type": "code",
      "metadata": {
        "id": "v9haKypSCqpJ"
      },
      "source": [
        "#hago un mapa de nombres de columnas\n",
        "nombres = {\n",
        "    ' link':'link',\n",
        "    ' fecha':'fecha'\n",
        "}\n",
        "\n",
        "#hago un mapa de nombres de meses: \n",
        "meses = {\n",
        "    'ene.':'enero',\n",
        "    'feb.':'febrero',\n",
        "    'mar.':'marzo',\n",
        "    'abr.':'abril',\n",
        "    'may.': 'mayo', \n",
        "    'jun.': 'junio',\n",
        "    'jul.': 'julio',\n",
        "    'ago.': 'agosto',\n",
        "    'sep.': 'septiembre',\n",
        "    'oct.': 'octubre',\n",
        "    'nov.': 'noviembre',\n",
        "    'dic.':'diciembre'\n",
        "}\n",
        "\n",
        "\n",
        "for i in range(3,10):\n",
        "  scrap = pd.read_csv(f'https://raw.githubusercontent.com/zoegarm/Equipo_2_P2_Analisis/main/DATA/WebScraapping_cancer_de_mama/google_cancer_mama_201{i}.csv', header = 0)\n",
        "\n",
        "  #Eliminar columnas con todos los valores NaN\n",
        "  scrap = scrap.dropna(axis=0, how='any').reset_index(drop = True)\n",
        "\n",
        "  #cambio los nombres:\n",
        "  scrap = scrap.rename(columns = nombres)\n",
        "\n",
        "  #hago un strapping sobre la fecha:\n",
        "  scrap['mes'] = scrap['fecha'].str.strip().astype(str).str.split(' ', expand = True).iloc[:,1:2]\n",
        "\n",
        "  #remapeo para eliminar mediante NA: \n",
        "  scrap['mes'] = scrap['mes'].map(meses)\n",
        "\n",
        "  #ahora elimino las columnas que no traían el mes, posteriormente reemplazadas por NaN\n",
        "  scrap = scrap.dropna(axis=0, how='any').reset_index(drop = True)\n",
        "  scrap.to_csv(f'Scrapping_201{i}_clean.csv')"
      ],
      "execution_count": null,
      "outputs": []
    }
  ]
}